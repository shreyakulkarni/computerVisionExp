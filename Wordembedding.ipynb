{
  "nbformat": 4,
  "nbformat_minor": 0,
  "metadata": {
    "colab": {
      "provenance": []
    },
    "kernelspec": {
      "name": "python3",
      "display_name": "Python 3"
    },
    "language_info": {
      "name": "python"
    },
    "accelerator": "GPU"
  },
  "cells": [
    {
      "cell_type": "markdown",
      "source": [
        "Lab 2 Submission\n",
        "Team: Shreya Kulkarni and Karan Deepak Kanwar"
      ],
      "metadata": {
        "id": "XWEf--dyRJXV"
      }
    },
    {
      "cell_type": "code",
      "source": [
        "from tensorflow.python.client import device_lib\n",
        "print(\"Show System RAM Memory:\\n\\n\")\n",
        "!cat /proc/meminfo | egrep \"MemTotal*\"\n",
        "print(\"\\n\\nShow Devices:\\n\\n\"+str(device_lib.list_local_devices()))"
      ],
      "metadata": {
        "colab": {
          "base_uri": "https://localhost:8080/"
        },
        "id": "LePLutdXFhZg",
        "outputId": "a0bac27e-5e9b-4110-c959-c06914846a80"
      },
      "execution_count": null,
      "outputs": [
        {
          "output_type": "stream",
          "name": "stdout",
          "text": [
            "Show System RAM Memory:\n",
            "\n",
            "\n",
            "MemTotal:       13302920 kB\n",
            "\n",
            "\n",
            "Show Devices:\n",
            "\n",
            "[name: \"/device:CPU:0\"\n",
            "device_type: \"CPU\"\n",
            "memory_limit: 268435456\n",
            "locality {\n",
            "}\n",
            "incarnation: 10111876131546152006\n",
            "xla_global_id: -1\n",
            ", name: \"/device:GPU:0\"\n",
            "device_type: \"GPU\"\n",
            "memory_limit: 11320098816\n",
            "locality {\n",
            "  bus_id: 1\n",
            "  links {\n",
            "  }\n",
            "}\n",
            "incarnation: 4456333989818020842\n",
            "physical_device_desc: \"device: 0, name: Tesla K80, pci bus id: 0000:00:04.0, compute capability: 3.7\"\n",
            "xla_global_id: 416903419\n",
            "]\n"
          ]
        }
      ]
    },
    {
      "cell_type": "code",
      "source": [
        "import tensorflow as tf\n",
        "tf.__version__"
      ],
      "metadata": {
        "colab": {
          "base_uri": "https://localhost:8080/",
          "height": 35
        },
        "id": "TPg5HeqNFhTy",
        "outputId": "de13794c-690e-48ed-8321-c6683513e947"
      },
      "execution_count": null,
      "outputs": [
        {
          "output_type": "execute_result",
          "data": {
            "text/plain": [
              "'2.8.0'"
            ],
            "application/vnd.google.colaboratory.intrinsic+json": {
              "type": "string"
            }
          },
          "metadata": {},
          "execution_count": 171
        }
      ]
    },
    {
      "cell_type": "code",
      "execution_count": null,
      "metadata": {
        "colab": {
          "base_uri": "https://localhost:8080/"
        },
        "id": "FwK63ocsUe-9",
        "outputId": "128940ad-67db-431f-9010-29d0ed0df0ca"
      },
      "outputs": [
        {
          "output_type": "stream",
          "name": "stdout",
          "text": [
            "Drive already mounted at /content/gdrive; to attempt to forcibly remount, call drive.mount(\"/content/gdrive\", force_remount=True).\n"
          ]
        }
      ],
      "source": [
        "from google.colab import drive\n",
        "drive.mount('/content/gdrive')"
      ]
    },
    {
      "cell_type": "code",
      "source": [
        "#/content/gdrive/MyDrive/Lab2:Colab"
      ],
      "metadata": {
        "id": "D2Y3tCGyU3AC"
      },
      "execution_count": null,
      "outputs": []
    },
    {
      "cell_type": "code",
      "source": [
        "import time\n",
        "start = time.time()\n",
        "!python3 \"/content/gdrive/MyDrive/mnist_cnn.py\"\n",
        "end = time.time()\n",
        "print(end - start)"
      ],
      "metadata": {
        "colab": {
          "base_uri": "https://localhost:8080/"
        },
        "id": "UDaJJ-bCU27-",
        "outputId": "7d036ee4-3405-4d33-c186-41c865a4b690"
      },
      "execution_count": null,
      "outputs": [
        {
          "output_type": "stream",
          "name": "stdout",
          "text": [
            "x_train shape: (60000, 28, 28, 1)\n",
            "60000 train samples\n",
            "10000 test samples\n",
            "2022-03-28 00:18:47.696681: W tensorflow/core/common_runtime/gpu/gpu_bfc_allocator.cc:39] Overriding allow_growth setting because the TF_FORCE_GPU_ALLOW_GROWTH environment variable is set. Original config value was 0.\n",
            "Epoch 1/12\n",
            "375/375 [==============================] - 11s 21ms/step - loss: 0.2856 - accuracy: 0.9123 - val_loss: 0.0674 - val_accuracy: 0.9809\n",
            "Epoch 2/12\n",
            "375/375 [==============================] - 8s 20ms/step - loss: 0.0971 - accuracy: 0.9706 - val_loss: 0.0497 - val_accuracy: 0.9859\n",
            "Epoch 3/12\n",
            "375/375 [==============================] - 7s 18ms/step - loss: 0.0723 - accuracy: 0.9776 - val_loss: 0.0431 - val_accuracy: 0.9870\n",
            "Epoch 4/12\n",
            "375/375 [==============================] - 6s 16ms/step - loss: 0.0588 - accuracy: 0.9817 - val_loss: 0.0400 - val_accuracy: 0.9878\n",
            "Epoch 5/12\n",
            "375/375 [==============================] - 6s 16ms/step - loss: 0.0474 - accuracy: 0.9850 - val_loss: 0.0435 - val_accuracy: 0.9881\n",
            "Epoch 6/12\n",
            "375/375 [==============================] - 6s 16ms/step - loss: 0.0439 - accuracy: 0.9863 - val_loss: 0.0438 - val_accuracy: 0.9880\n",
            "Epoch 7/12\n",
            "375/375 [==============================] - 6s 16ms/step - loss: 0.0385 - accuracy: 0.9879 - val_loss: 0.0354 - val_accuracy: 0.9898\n",
            "Epoch 8/12\n",
            "375/375 [==============================] - 6s 16ms/step - loss: 0.0337 - accuracy: 0.9890 - val_loss: 0.0413 - val_accuracy: 0.9880\n",
            "Epoch 9/12\n",
            "375/375 [==============================] - 6s 15ms/step - loss: 0.0298 - accuracy: 0.9902 - val_loss: 0.0359 - val_accuracy: 0.9900\n",
            "Epoch 10/12\n",
            "375/375 [==============================] - 6s 16ms/step - loss: 0.0273 - accuracy: 0.9912 - val_loss: 0.0356 - val_accuracy: 0.9909\n",
            "Epoch 11/12\n",
            "375/375 [==============================] - 6s 16ms/step - loss: 0.0268 - accuracy: 0.9912 - val_loss: 0.0414 - val_accuracy: 0.9893\n",
            "Epoch 12/12\n",
            "375/375 [==============================] - 6s 16ms/step - loss: 0.0228 - accuracy: 0.9925 - val_loss: 0.0335 - val_accuracy: 0.9917\n",
            "Test loss: 0.030387692153453827\n",
            "Test accuracy: 0.991599977016449\n",
            "86.46266508102417\n"
          ]
        }
      ]
    },
    {
      "cell_type": "code",
      "source": [
        "import tensorflow as tf\n",
        "from tensorflow.keras.datasets import mnist\n",
        "from tensorflow.keras.models import Sequential\n",
        "from tensorflow.keras.layers import Dense, Dropout, Flatten\n",
        "from tensorflow.keras.layers import Conv2D, MaxPooling2D\n",
        "from tensorflow.keras import backend as K"
      ],
      "metadata": {
        "id": "LhOma4FAU21e"
      },
      "execution_count": null,
      "outputs": []
    },
    {
      "cell_type": "code",
      "source": [
        "batch_size = 128\n",
        "num_classes = 10\n",
        "epochs = 12"
      ],
      "metadata": {
        "id": "YylOXTWwU2su"
      },
      "execution_count": null,
      "outputs": []
    },
    {
      "cell_type": "code",
      "source": [
        "# input image dimensions\n",
        "img_rows, img_cols = 28, 28"
      ],
      "metadata": {
        "id": "_mVXSJGLWqxr"
      },
      "execution_count": null,
      "outputs": []
    },
    {
      "cell_type": "code",
      "source": [
        "# the data, split between train and test sets\n",
        "(x_train, y_train), (x_test, y_test) = mnist.load_data()"
      ],
      "metadata": {
        "id": "fBdXdaI9Wquh"
      },
      "execution_count": null,
      "outputs": []
    },
    {
      "cell_type": "code",
      "source": [
        "if K.image_data_format() == 'channels_first':\n",
        "  x_train = x_train.reshape(x_train.shape[0], 1, img_rows, img_cols)\n",
        "  x_test = x_test.reshape(x_test.shape[0], 1, img_rows, img_cols)\n",
        "  input_shape = (1, img_rows, img_cols)\n",
        "else:\n",
        "  x_train = x_train.reshape(x_train.shape[0], img_rows, img_cols, 1)\n",
        "  x_test = x_test.reshape(x_test.shape[0], img_rows, img_cols, 1)\n",
        "  input_shape = (img_rows, img_cols, 1)"
      ],
      "metadata": {
        "id": "AbjZu7-BWqqa"
      },
      "execution_count": null,
      "outputs": []
    },
    {
      "cell_type": "code",
      "source": [
        "x_train = x_train.astype('float32')\n",
        "x_test = x_test.astype('float32')\n",
        "x_train /= 255\n",
        "x_test /= 255\n",
        "print('x_train shape:', x_train.shape)\n",
        "print(x_train.shape[0], 'train samples')\n",
        "print(x_test.shape[0], 'test samples')\n",
        "# convert class vectors to binary class matrices\n",
        "y_train = tf.keras.utils.to_categorical(y_train, num_classes)\n",
        "y_test = tf.keras.utils.to_categorical(y_test, num_classes)"
      ],
      "metadata": {
        "colab": {
          "base_uri": "https://localhost:8080/"
        },
        "id": "iPGay0bdWqjT",
        "outputId": "18224f95-283f-4fa9-ddb7-d580ed3b876e"
      },
      "execution_count": null,
      "outputs": [
        {
          "output_type": "stream",
          "name": "stdout",
          "text": [
            "x_train shape: (60000, 28, 28, 1)\n",
            "60000 train samples\n",
            "10000 test samples\n"
          ]
        }
      ]
    },
    {
      "cell_type": "code",
      "source": [
        "model = Sequential()\n",
        "model.add(Conv2D(32, kernel_size=(3, 3),activation='relu', input_shape=input_shape))\n",
        "model.add(Conv2D(64, (3, 3), activation='relu'))\n",
        "model.add(MaxPooling2D(pool_size=(2, 2)))\n",
        "model.add(Dropout(0.25))\n",
        "model.add(Flatten())\n",
        "model.add(Dense(128, activation='relu'))\n",
        "model.add(Dropout(0.5))\n",
        "model.add(Dense(num_classes, activation='softmax'))"
      ],
      "metadata": {
        "id": "6ml7WsnJWqYP"
      },
      "execution_count": null,
      "outputs": []
    },
    {
      "cell_type": "markdown",
      "source": [
        "Q2- Explain the way that this model is designed. Talk about all the layers and their functionality. <br>\n",
        "Answer 2 This is a sequential model. Under this model we have 2D convolution layers, with a kernel_size of (3,3). Here we have one hidden later of node size 128. We allso have a dropout level of 0.5. Usually we add a dropout layer to reduce overfitting in our models. <br>\n",
        "Our activation function is rectified linear activation function which is relu. <br> It is  piecewise linear function that will output the input directly if it is positive, otherwise, it will output zero."
      ],
      "metadata": {
        "id": "IXq_i1hgXgP3"
      }
    },
    {
      "cell_type": "code",
      "source": [
        "model.compile(loss='categorical_crossentropy', optimizer='adam', metrics=['accuracy'])"
      ],
      "metadata": {
        "id": "YBOFmqtfXiQ8"
      },
      "execution_count": null,
      "outputs": []
    },
    {
      "cell_type": "code",
      "source": [
        "hist2 = model.fit(x_train, y_train, batch_size=batch_size, epochs=epochs, verbose=1, validation_split=0.2)"
      ],
      "metadata": {
        "colab": {
          "base_uri": "https://localhost:8080/"
        },
        "id": "ZPRtOJGWXmpk",
        "outputId": "92f69c80-49e1-4ae4-af2e-36d731a40109"
      },
      "execution_count": null,
      "outputs": [
        {
          "output_type": "stream",
          "name": "stdout",
          "text": [
            "Epoch 1/12\n",
            "375/375 [==============================] - 13s 24ms/step - loss: 0.2787 - accuracy: 0.9141 - val_loss: 0.0641 - val_accuracy: 0.9808\n",
            "Epoch 2/12\n",
            "375/375 [==============================] - 8s 21ms/step - loss: 0.0925 - accuracy: 0.9722 - val_loss: 0.0481 - val_accuracy: 0.9852\n",
            "Epoch 3/12\n",
            "375/375 [==============================] - 6s 16ms/step - loss: 0.0694 - accuracy: 0.9784 - val_loss: 0.0411 - val_accuracy: 0.9875\n",
            "Epoch 4/12\n",
            "375/375 [==============================] - 6s 17ms/step - loss: 0.0565 - accuracy: 0.9826 - val_loss: 0.0392 - val_accuracy: 0.9887\n",
            "Epoch 5/12\n",
            "375/375 [==============================] - 7s 20ms/step - loss: 0.0480 - accuracy: 0.9851 - val_loss: 0.0381 - val_accuracy: 0.9882\n",
            "Epoch 6/12\n",
            "375/375 [==============================] - 6s 17ms/step - loss: 0.0427 - accuracy: 0.9865 - val_loss: 0.0361 - val_accuracy: 0.9892\n",
            "Epoch 7/12\n",
            "375/375 [==============================] - 6s 17ms/step - loss: 0.0348 - accuracy: 0.9883 - val_loss: 0.0347 - val_accuracy: 0.9891\n",
            "Epoch 8/12\n",
            "375/375 [==============================] - 6s 16ms/step - loss: 0.0344 - accuracy: 0.9886 - val_loss: 0.0394 - val_accuracy: 0.9873\n",
            "Epoch 9/12\n",
            "375/375 [==============================] - 6s 16ms/step - loss: 0.0287 - accuracy: 0.9908 - val_loss: 0.0386 - val_accuracy: 0.9893\n",
            "Epoch 10/12\n",
            "375/375 [==============================] - 6s 17ms/step - loss: 0.0269 - accuracy: 0.9908 - val_loss: 0.0350 - val_accuracy: 0.9908\n",
            "Epoch 11/12\n",
            "375/375 [==============================] - 6s 17ms/step - loss: 0.0239 - accuracy: 0.9917 - val_loss: 0.0353 - val_accuracy: 0.9902\n",
            "Epoch 12/12\n",
            "375/375 [==============================] - 6s 16ms/step - loss: 0.0235 - accuracy: 0.9920 - val_loss: 0.0387 - val_accuracy: 0.9899\n"
          ]
        }
      ]
    },
    {
      "cell_type": "code",
      "source": [
        "score = model.evaluate(x_test, y_test, verbose=0)"
      ],
      "metadata": {
        "id": "v6G14D-wXqe2"
      },
      "execution_count": null,
      "outputs": []
    },
    {
      "cell_type": "code",
      "source": [
        "print('Test loss:', score[0])\n",
        "print('Test accuracy:', score[1])"
      ],
      "metadata": {
        "colab": {
          "base_uri": "https://localhost:8080/"
        },
        "id": "RiJsnyWaXqY6",
        "outputId": "9e65e3d7-e9ed-4a52-edae-19803929c509"
      },
      "execution_count": null,
      "outputs": [
        {
          "output_type": "stream",
          "name": "stdout",
          "text": [
            "Test loss: 0.03345086798071861\n",
            "Test accuracy: 0.9914000034332275\n"
          ]
        }
      ]
    },
    {
      "cell_type": "code",
      "source": [
        "import matplotlib.pyplot as plt\n",
        "plt.figure(figsize=(8, 6), dpi=80)\n",
        "\n",
        "plt.subplot(2,1,1)\n",
        "plt.plot(hist2.history['accuracy'])\n",
        "plt.plot(hist2.history['val_accuracy'])\n",
        "plt.title('model accuracy')\n",
        "plt.ylabel('accuracy')\n",
        "plt.xlabel('epoch')\n",
        "plt.legend(['train', 'test'], loc='lower right')\n",
        "\n",
        "plt.subplot(2,1,2)\n",
        "plt.plot(hist2.history['loss'])\n",
        "plt.plot(hist2.history['val_loss'])\n",
        "plt.title('model loss')\n",
        "plt.ylabel('loss')\n",
        "plt.xlabel('epoch')\n",
        "plt.legend(['train', 'test'], loc='upper right')\n",
        "\n",
        "plt.show()"
      ],
      "metadata": {
        "colab": {
          "base_uri": "https://localhost:8080/",
          "height": 444
        },
        "id": "xeTGayTdcEDh",
        "outputId": "be741c83-3840-42df-d82d-a30900efa4b2"
      },
      "execution_count": null,
      "outputs": [
        {
          "output_type": "display_data",
          "data": {
            "text/plain": [
              "<Figure size 640x480 with 2 Axes>"
            ],
            "image/png": "[encoded data removed]"
          },
          "metadata": {
            "needs_background": "light"
          }
        }
      ]
    },
    {
      "cell_type": "markdown",
      "source": [
        "\n",
        "Q3- Design the learning curve and talk about what you see.<br>\n",
        "Answer 03 <br>\n",
        "Above is the learning curve. <br>\n",
        "This is neither a case of underfit or overfit.The above learning curve shows us the changes in learning performance of our model as epochs increments. There are two graphs one for the accuracy and one for loss. We can see, this model shows a decent food performance with no resulting overfit or underfit case.\n"
      ],
      "metadata": {
        "id": "gCmXvEhuX0UK"
      }
    },
    {
      "cell_type": "code",
      "source": [
        "import pandas as pd"
      ],
      "metadata": {
        "id": "6JUuHJO1X3n2"
      },
      "execution_count": null,
      "outputs": []
    },
    {
      "cell_type": "code",
      "source": [
        "df = pd.read_csv('/content/gdrive/MyDrive/amazon_cells_labelled.txt', names=['sentence', 'label'], sep='\\t')"
      ],
      "metadata": {
        "id": "3DmLEHEXX4Gn"
      },
      "execution_count": null,
      "outputs": []
    },
    {
      "cell_type": "code",
      "source": [
        "print(df.iloc[0])"
      ],
      "metadata": {
        "colab": {
          "base_uri": "https://localhost:8080/"
        },
        "id": "KY7KZf-bYM3m",
        "outputId": "af657fca-0378-4125-aeee-86629261a3e2"
      },
      "execution_count": null,
      "outputs": [
        {
          "output_type": "stream",
          "name": "stdout",
          "text": [
            "sentence    So there is no way for me to plug it in here i...\n",
            "label                                                       0\n",
            "Name: 0, dtype: object\n"
          ]
        }
      ]
    },
    {
      "cell_type": "code",
      "source": [
        "sentences = ['John likes ice cream', 'John hates chocolate.']"
      ],
      "metadata": {
        "id": "sUinSkFMYM0i"
      },
      "execution_count": null,
      "outputs": []
    },
    {
      "cell_type": "code",
      "source": [
        "from sklearn.feature_extraction.text import CountVectorizer\n",
        "vectorizer = CountVectorizer(min_df=0, lowercase=False)\n",
        "vectorizer.fit(sentences)\n",
        "vectorizer.vocabulary_"
      ],
      "metadata": {
        "colab": {
          "base_uri": "https://localhost:8080/"
        },
        "id": "oTMT0kVnYMw2",
        "outputId": "1c2c03fd-badd-480b-e996-230ba649324d"
      },
      "execution_count": null,
      "outputs": [
        {
          "output_type": "execute_result",
          "data": {
            "text/plain": [
              "{'John': 0, 'chocolate': 1, 'cream': 2, 'hates': 3, 'ice': 4, 'likes': 5}"
            ]
          },
          "metadata": {},
          "execution_count": 64
        }
      ]
    },
    {
      "cell_type": "code",
      "source": [
        "vectorizer.transform(sentences).toarray()"
      ],
      "metadata": {
        "colab": {
          "base_uri": "https://localhost:8080/"
        },
        "id": "SYlcUn7_YMqs",
        "outputId": "d7cb1cc5-c83c-4614-a837-95d2c5432ded"
      },
      "execution_count": null,
      "outputs": [
        {
          "output_type": "execute_result",
          "data": {
            "text/plain": [
              "array([[1, 0, 1, 0, 1, 1],\n",
              "       [1, 1, 0, 1, 0, 0]])"
            ]
          },
          "metadata": {},
          "execution_count": 65
        }
      ]
    },
    {
      "cell_type": "code",
      "source": [
        "from sklearn.model_selection import train_test_split"
      ],
      "metadata": {
        "id": "LEzfUBvUYMjk"
      },
      "execution_count": null,
      "outputs": []
    },
    {
      "cell_type": "code",
      "source": [
        "sentences = df['sentence'].values\n",
        "y = df['label'].values"
      ],
      "metadata": {
        "id": "EpEEs3o3YfSa"
      },
      "execution_count": null,
      "outputs": []
    },
    {
      "cell_type": "code",
      "source": [
        "sentences_train, sentences_test, y_train, y_test = train_test_split(sentences, y, test_size=0.25, random_state=1000)"
      ],
      "metadata": {
        "id": "d65ibHq4YfPS"
      },
      "execution_count": null,
      "outputs": []
    },
    {
      "cell_type": "code",
      "source": [
        "from sklearn.feature_extraction.text import CountVectorizer"
      ],
      "metadata": {
        "id": "_WUywdS5YfKo"
      },
      "execution_count": null,
      "outputs": []
    },
    {
      "cell_type": "code",
      "source": [
        "vectorizer = CountVectorizer()\n",
        "vectorizer.fit(sentences_train)"
      ],
      "metadata": {
        "colab": {
          "base_uri": "https://localhost:8080/"
        },
        "id": "idV1DeApYfHh",
        "outputId": "ad3f60d0-4c1b-432d-986a-9447d4c5082f"
      },
      "execution_count": null,
      "outputs": [
        {
          "output_type": "execute_result",
          "data": {
            "text/plain": [
              "CountVectorizer()"
            ]
          },
          "metadata": {},
          "execution_count": 71
        }
      ]
    },
    {
      "cell_type": "code",
      "source": [
        "X_train = vectorizer.transform(sentences_train)\n",
        "X_test = vectorizer.transform(sentences_test)\n",
        "X_train"
      ],
      "metadata": {
        "colab": {
          "base_uri": "https://localhost:8080/"
        },
        "id": "dQr98uf6YfC6",
        "outputId": "157de81b-6b00-40cd-edb2-b741ad16ef01"
      },
      "execution_count": null,
      "outputs": [
        {
          "output_type": "execute_result",
          "data": {
            "text/plain": [
              "<750x1546 sparse matrix of type '<class 'numpy.int64'>'\n",
              "\twith 6817 stored elements in Compressed Sparse Row format>"
            ]
          },
          "metadata": {},
          "execution_count": 72
        }
      ]
    },
    {
      "cell_type": "code",
      "source": [
        "from sklearn.linear_model import LogisticRegression"
      ],
      "metadata": {
        "id": "PtYq75MYYe8Q"
      },
      "execution_count": null,
      "outputs": []
    },
    {
      "cell_type": "code",
      "source": [
        "classifier = LogisticRegression()\n",
        "classifier.fit(X_train, y_train)\n",
        "score = classifier.score(X_test, y_test)"
      ],
      "metadata": {
        "id": "yL_EHN22Yvb7"
      },
      "execution_count": null,
      "outputs": []
    },
    {
      "cell_type": "code",
      "source": [
        "print(\"Accuracy:\", score)"
      ],
      "metadata": {
        "colab": {
          "base_uri": "https://localhost:8080/"
        },
        "id": "fwna9FCMYvZH",
        "outputId": "df5d5635-4727-4920-aaba-1d776bd327c3"
      },
      "execution_count": null,
      "outputs": [
        {
          "output_type": "stream",
          "name": "stdout",
          "text": [
            "Accuracy: 0.796\n"
          ]
        }
      ]
    },
    {
      "cell_type": "code",
      "source": [
        "X_train = vectorizer.transform(sentences_train).toarray()\n",
        "X_test = vectorizer.transform(sentences_test).toarray()"
      ],
      "metadata": {
        "id": "tvoNhV_eYvWO"
      },
      "execution_count": null,
      "outputs": []
    },
    {
      "cell_type": "code",
      "source": [
        "from tensorflow.keras.models import Sequential\n",
        "from tensorflow.keras import layers"
      ],
      "metadata": {
        "id": "Ars9tFfwYvRw"
      },
      "execution_count": null,
      "outputs": []
    },
    {
      "cell_type": "code",
      "source": [
        "input_dim = X_train.shape[1] # Number of features"
      ],
      "metadata": {
        "id": "P6UzgL1AYvO9"
      },
      "execution_count": null,
      "outputs": []
    },
    {
      "cell_type": "code",
      "source": [
        "model = Sequential()\n",
        "model.add(layers.Dense(10, input_dim=input_dim, activation='relu'))\n",
        "model.add(layers.Dense(1, activation='sigmoid'))"
      ],
      "metadata": {
        "id": "7PAR9RAoYvMB"
      },
      "execution_count": null,
      "outputs": []
    },
    {
      "cell_type": "code",
      "source": [
        "model.compile(loss='binary_crossentropy', optimizer='adam', metrics=['accuracy'])"
      ],
      "metadata": {
        "id": "s1IYMgHEYvIv"
      },
      "execution_count": null,
      "outputs": []
    },
    {
      "cell_type": "code",
      "source": [
        "hist = model.fit(X_train, y_train, epochs=100, validation_split=0.2 , batch_size=10)\n",
        "loss, accuracy = model.evaluate(X_test, y_test, verbose=False)\n",
        "print(\"Test Accuracy: \",accuracy*100)"
      ],
      "metadata": {
        "colab": {
          "base_uri": "https://localhost:8080/"
        },
        "id": "PEgtSivRY9aS",
        "outputId": "8ff211a8-2095-47e9-a5c9-eb298c03acf7"
      },
      "execution_count": null,
      "outputs": [
        {
          "output_type": "stream",
          "name": "stdout",
          "text": [
            "Epoch 1/100\n",
            "60/60 [==============================] - 1s 9ms/step - loss: 0.6817 - accuracy: 0.5750 - val_loss: 0.6699 - val_accuracy: 0.6867\n",
            "Epoch 2/100\n",
            "60/60 [==============================] - 0s 4ms/step - loss: 0.6331 - accuracy: 0.7883 - val_loss: 0.6361 - val_accuracy: 0.7933\n",
            "Epoch 3/100\n",
            "60/60 [==============================] - 0s 4ms/step - loss: 0.5606 - accuracy: 0.8950 - val_loss: 0.5880 - val_accuracy: 0.8333\n",
            "Epoch 4/100\n",
            "60/60 [==============================] - 0s 4ms/step - loss: 0.4669 - accuracy: 0.9483 - val_loss: 0.5372 - val_accuracy: 0.8267\n",
            "Epoch 5/100\n",
            "60/60 [==============================] - 0s 4ms/step - loss: 0.3739 - accuracy: 0.9717 - val_loss: 0.4967 - val_accuracy: 0.8333\n",
            "Epoch 6/100\n",
            "60/60 [==============================] - 0s 4ms/step - loss: 0.2978 - accuracy: 0.9817 - val_loss: 0.4641 - val_accuracy: 0.8333\n",
            "Epoch 7/100\n",
            "60/60 [==============================] - 0s 4ms/step - loss: 0.2387 - accuracy: 0.9867 - val_loss: 0.4418 - val_accuracy: 0.8400\n",
            "Epoch 8/100\n",
            "60/60 [==============================] - 0s 5ms/step - loss: 0.1919 - accuracy: 0.9933 - val_loss: 0.4250 - val_accuracy: 0.8400\n",
            "Epoch 9/100\n",
            "60/60 [==============================] - 0s 4ms/step - loss: 0.1569 - accuracy: 0.9950 - val_loss: 0.4131 - val_accuracy: 0.8467\n",
            "Epoch 10/100\n",
            "60/60 [==============================] - 0s 5ms/step - loss: 0.1291 - accuracy: 0.9967 - val_loss: 0.4048 - val_accuracy: 0.8467\n",
            "Epoch 11/100\n",
            "60/60 [==============================] - 0s 4ms/step - loss: 0.1078 - accuracy: 0.9983 - val_loss: 0.4014 - val_accuracy: 0.8467\n",
            "Epoch 12/100\n",
            "60/60 [==============================] - 0s 4ms/step - loss: 0.0909 - accuracy: 0.9983 - val_loss: 0.3976 - val_accuracy: 0.8400\n",
            "Epoch 13/100\n",
            "60/60 [==============================] - 0s 5ms/step - loss: 0.0774 - accuracy: 0.9983 - val_loss: 0.3959 - val_accuracy: 0.8400\n",
            "Epoch 14/100\n",
            "60/60 [==============================] - 0s 5ms/step - loss: 0.0665 - accuracy: 1.0000 - val_loss: 0.3956 - val_accuracy: 0.8400\n",
            "Epoch 15/100\n",
            "60/60 [==============================] - 0s 5ms/step - loss: 0.0573 - accuracy: 1.0000 - val_loss: 0.3967 - val_accuracy: 0.8400\n",
            "Epoch 16/100\n",
            "60/60 [==============================] - 0s 4ms/step - loss: 0.0502 - accuracy: 1.0000 - val_loss: 0.3957 - val_accuracy: 0.8467\n",
            "Epoch 17/100\n",
            "60/60 [==============================] - 0s 4ms/step - loss: 0.0439 - accuracy: 1.0000 - val_loss: 0.3964 - val_accuracy: 0.8467\n",
            "Epoch 18/100\n",
            "60/60 [==============================] - 0s 4ms/step - loss: 0.0389 - accuracy: 1.0000 - val_loss: 0.3978 - val_accuracy: 0.8467\n",
            "Epoch 19/100\n",
            "60/60 [==============================] - 0s 4ms/step - loss: 0.0347 - accuracy: 1.0000 - val_loss: 0.4001 - val_accuracy: 0.8400\n",
            "Epoch 20/100\n",
            "60/60 [==============================] - 0s 4ms/step - loss: 0.0310 - accuracy: 1.0000 - val_loss: 0.4019 - val_accuracy: 0.8400\n",
            "Epoch 21/100\n",
            "60/60 [==============================] - 0s 4ms/step - loss: 0.0278 - accuracy: 1.0000 - val_loss: 0.4048 - val_accuracy: 0.8333\n",
            "Epoch 22/100\n",
            "60/60 [==============================] - 0s 4ms/step - loss: 0.0251 - accuracy: 1.0000 - val_loss: 0.4073 - val_accuracy: 0.8333\n",
            "Epoch 23/100\n",
            "60/60 [==============================] - 0s 4ms/step - loss: 0.0228 - accuracy: 1.0000 - val_loss: 0.4094 - val_accuracy: 0.8333\n",
            "Epoch 24/100\n",
            "60/60 [==============================] - 0s 4ms/step - loss: 0.0207 - accuracy: 1.0000 - val_loss: 0.4124 - val_accuracy: 0.8333\n",
            "Epoch 25/100\n",
            "60/60 [==============================] - 0s 4ms/step - loss: 0.0189 - accuracy: 1.0000 - val_loss: 0.4152 - val_accuracy: 0.8267\n",
            "Epoch 26/100\n",
            "60/60 [==============================] - 0s 4ms/step - loss: 0.0173 - accuracy: 1.0000 - val_loss: 0.4168 - val_accuracy: 0.8333\n",
            "Epoch 27/100\n",
            "60/60 [==============================] - 0s 4ms/step - loss: 0.0159 - accuracy: 1.0000 - val_loss: 0.4193 - val_accuracy: 0.8267\n",
            "Epoch 28/100\n",
            "60/60 [==============================] - 0s 4ms/step - loss: 0.0147 - accuracy: 1.0000 - val_loss: 0.4219 - val_accuracy: 0.8267\n",
            "Epoch 29/100\n",
            "60/60 [==============================] - 0s 4ms/step - loss: 0.0136 - accuracy: 1.0000 - val_loss: 0.4234 - val_accuracy: 0.8333\n",
            "Epoch 30/100\n",
            "60/60 [==============================] - 0s 4ms/step - loss: 0.0126 - accuracy: 1.0000 - val_loss: 0.4271 - val_accuracy: 0.8267\n",
            "Epoch 31/100\n",
            "60/60 [==============================] - 0s 4ms/step - loss: 0.0117 - accuracy: 1.0000 - val_loss: 0.4285 - val_accuracy: 0.8333\n",
            "Epoch 32/100\n",
            "60/60 [==============================] - 0s 5ms/step - loss: 0.0109 - accuracy: 1.0000 - val_loss: 0.4314 - val_accuracy: 0.8267\n",
            "Epoch 33/100\n",
            "60/60 [==============================] - 0s 5ms/step - loss: 0.0102 - accuracy: 1.0000 - val_loss: 0.4341 - val_accuracy: 0.8267\n",
            "Epoch 34/100\n",
            "60/60 [==============================] - 0s 4ms/step - loss: 0.0095 - accuracy: 1.0000 - val_loss: 0.4367 - val_accuracy: 0.8267\n",
            "Epoch 35/100\n",
            "60/60 [==============================] - 0s 4ms/step - loss: 0.0089 - accuracy: 1.0000 - val_loss: 0.4382 - val_accuracy: 0.8267\n",
            "Epoch 36/100\n",
            "60/60 [==============================] - 0s 4ms/step - loss: 0.0084 - accuracy: 1.0000 - val_loss: 0.4410 - val_accuracy: 0.8267\n",
            "Epoch 37/100\n",
            "60/60 [==============================] - 0s 4ms/step - loss: 0.0079 - accuracy: 1.0000 - val_loss: 0.4436 - val_accuracy: 0.8333\n",
            "Epoch 38/100\n",
            "60/60 [==============================] - 0s 4ms/step - loss: 0.0074 - accuracy: 1.0000 - val_loss: 0.4458 - val_accuracy: 0.8267\n",
            "Epoch 39/100\n",
            "60/60 [==============================] - 0s 5ms/step - loss: 0.0070 - accuracy: 1.0000 - val_loss: 0.4486 - val_accuracy: 0.8333\n",
            "Epoch 40/100\n",
            "60/60 [==============================] - 0s 4ms/step - loss: 0.0066 - accuracy: 1.0000 - val_loss: 0.4500 - val_accuracy: 0.8267\n",
            "Epoch 41/100\n",
            "60/60 [==============================] - 0s 4ms/step - loss: 0.0063 - accuracy: 1.0000 - val_loss: 0.4526 - val_accuracy: 0.8267\n",
            "Epoch 42/100\n",
            "60/60 [==============================] - 0s 4ms/step - loss: 0.0060 - accuracy: 1.0000 - val_loss: 0.4555 - val_accuracy: 0.8333\n",
            "Epoch 43/100\n",
            "60/60 [==============================] - 0s 4ms/step - loss: 0.0057 - accuracy: 1.0000 - val_loss: 0.4574 - val_accuracy: 0.8333\n",
            "Epoch 44/100\n",
            "60/60 [==============================] - 0s 4ms/step - loss: 0.0054 - accuracy: 1.0000 - val_loss: 0.4602 - val_accuracy: 0.8333\n",
            "Epoch 45/100\n",
            "60/60 [==============================] - 0s 4ms/step - loss: 0.0051 - accuracy: 1.0000 - val_loss: 0.4622 - val_accuracy: 0.8333\n",
            "Epoch 46/100\n",
            "60/60 [==============================] - 0s 4ms/step - loss: 0.0049 - accuracy: 1.0000 - val_loss: 0.4638 - val_accuracy: 0.8400\n",
            "Epoch 47/100\n",
            "60/60 [==============================] - 0s 4ms/step - loss: 0.0047 - accuracy: 1.0000 - val_loss: 0.4666 - val_accuracy: 0.8400\n",
            "Epoch 48/100\n",
            "60/60 [==============================] - 0s 4ms/step - loss: 0.0045 - accuracy: 1.0000 - val_loss: 0.4696 - val_accuracy: 0.8400\n",
            "Epoch 49/100\n",
            "60/60 [==============================] - 0s 4ms/step - loss: 0.0043 - accuracy: 1.0000 - val_loss: 0.4717 - val_accuracy: 0.8400\n",
            "Epoch 50/100\n",
            "60/60 [==============================] - 0s 4ms/step - loss: 0.0041 - accuracy: 1.0000 - val_loss: 0.4743 - val_accuracy: 0.8400\n",
            "Epoch 51/100\n",
            "60/60 [==============================] - 0s 5ms/step - loss: 0.0040 - accuracy: 1.0000 - val_loss: 0.4767 - val_accuracy: 0.8400\n",
            "Epoch 52/100\n",
            "60/60 [==============================] - 0s 4ms/step - loss: 0.0038 - accuracy: 1.0000 - val_loss: 0.4795 - val_accuracy: 0.8400\n",
            "Epoch 53/100\n",
            "60/60 [==============================] - 0s 5ms/step - loss: 0.0037 - accuracy: 1.0000 - val_loss: 0.4816 - val_accuracy: 0.8400\n",
            "Epoch 54/100\n",
            "60/60 [==============================] - 0s 4ms/step - loss: 0.0035 - accuracy: 1.0000 - val_loss: 0.4836 - val_accuracy: 0.8400\n",
            "Epoch 55/100\n",
            "60/60 [==============================] - 0s 4ms/step - loss: 0.0034 - accuracy: 1.0000 - val_loss: 0.4852 - val_accuracy: 0.8400\n",
            "Epoch 56/100\n",
            "60/60 [==============================] - 0s 4ms/step - loss: 0.0033 - accuracy: 1.0000 - val_loss: 0.4873 - val_accuracy: 0.8400\n",
            "Epoch 57/100\n",
            "60/60 [==============================] - 0s 5ms/step - loss: 0.0032 - accuracy: 1.0000 - val_loss: 0.4898 - val_accuracy: 0.8400\n",
            "Epoch 58/100\n",
            "60/60 [==============================] - 0s 4ms/step - loss: 0.0031 - accuracy: 1.0000 - val_loss: 0.4919 - val_accuracy: 0.8467\n",
            "Epoch 59/100\n",
            "60/60 [==============================] - 0s 4ms/step - loss: 0.0029 - accuracy: 1.0000 - val_loss: 0.4940 - val_accuracy: 0.8533\n",
            "Epoch 60/100\n",
            "60/60 [==============================] - 0s 4ms/step - loss: 0.0029 - accuracy: 1.0000 - val_loss: 0.4959 - val_accuracy: 0.8533\n",
            "Epoch 61/100\n",
            "60/60 [==============================] - 0s 4ms/step - loss: 0.0028 - accuracy: 1.0000 - val_loss: 0.4983 - val_accuracy: 0.8533\n",
            "Epoch 62/100\n",
            "60/60 [==============================] - 0s 4ms/step - loss: 0.0027 - accuracy: 1.0000 - val_loss: 0.5007 - val_accuracy: 0.8533\n",
            "Epoch 63/100\n",
            "60/60 [==============================] - 0s 4ms/step - loss: 0.0026 - accuracy: 1.0000 - val_loss: 0.5028 - val_accuracy: 0.8533\n",
            "Epoch 64/100\n",
            "60/60 [==============================] - 0s 4ms/step - loss: 0.0025 - accuracy: 1.0000 - val_loss: 0.5047 - val_accuracy: 0.8533\n",
            "Epoch 65/100\n",
            "60/60 [==============================] - 0s 4ms/step - loss: 0.0024 - accuracy: 1.0000 - val_loss: 0.5066 - val_accuracy: 0.8533\n",
            "Epoch 66/100\n",
            "60/60 [==============================] - 0s 4ms/step - loss: 0.0024 - accuracy: 1.0000 - val_loss: 0.5091 - val_accuracy: 0.8533\n",
            "Epoch 67/100\n",
            "60/60 [==============================] - 0s 4ms/step - loss: 0.0023 - accuracy: 1.0000 - val_loss: 0.5104 - val_accuracy: 0.8533\n",
            "Epoch 68/100\n",
            "60/60 [==============================] - 0s 4ms/step - loss: 0.0022 - accuracy: 1.0000 - val_loss: 0.5133 - val_accuracy: 0.8533\n",
            "Epoch 69/100\n",
            "60/60 [==============================] - 0s 4ms/step - loss: 0.0022 - accuracy: 1.0000 - val_loss: 0.5146 - val_accuracy: 0.8533\n",
            "Epoch 70/100\n",
            "60/60 [==============================] - 0s 4ms/step - loss: 0.0021 - accuracy: 1.0000 - val_loss: 0.5166 - val_accuracy: 0.8533\n",
            "Epoch 71/100\n",
            "60/60 [==============================] - 0s 4ms/step - loss: 0.0021 - accuracy: 1.0000 - val_loss: 0.5182 - val_accuracy: 0.8533\n",
            "Epoch 72/100\n",
            "60/60 [==============================] - 0s 5ms/step - loss: 0.0020 - accuracy: 1.0000 - val_loss: 0.5205 - val_accuracy: 0.8533\n",
            "Epoch 73/100\n",
            "60/60 [==============================] - 0s 4ms/step - loss: 0.0020 - accuracy: 1.0000 - val_loss: 0.5227 - val_accuracy: 0.8533\n",
            "Epoch 74/100\n",
            "60/60 [==============================] - 0s 4ms/step - loss: 0.0019 - accuracy: 1.0000 - val_loss: 0.5245 - val_accuracy: 0.8533\n",
            "Epoch 75/100\n",
            "60/60 [==============================] - 0s 5ms/step - loss: 0.0019 - accuracy: 1.0000 - val_loss: 0.5263 - val_accuracy: 0.8533\n",
            "Epoch 76/100\n",
            "60/60 [==============================] - 0s 4ms/step - loss: 0.0018 - accuracy: 1.0000 - val_loss: 0.5284 - val_accuracy: 0.8533\n",
            "Epoch 77/100\n",
            "60/60 [==============================] - 0s 4ms/step - loss: 0.0018 - accuracy: 1.0000 - val_loss: 0.5303 - val_accuracy: 0.8533\n",
            "Epoch 78/100\n",
            "60/60 [==============================] - 0s 5ms/step - loss: 0.0018 - accuracy: 1.0000 - val_loss: 0.5322 - val_accuracy: 0.8533\n",
            "Epoch 79/100\n",
            "60/60 [==============================] - 0s 4ms/step - loss: 0.0017 - accuracy: 1.0000 - val_loss: 0.5342 - val_accuracy: 0.8533\n",
            "Epoch 80/100\n",
            "60/60 [==============================] - 0s 4ms/step - loss: 0.0017 - accuracy: 1.0000 - val_loss: 0.5359 - val_accuracy: 0.8533\n",
            "Epoch 81/100\n",
            "60/60 [==============================] - 0s 4ms/step - loss: 0.0017 - accuracy: 1.0000 - val_loss: 0.5381 - val_accuracy: 0.8533\n",
            "Epoch 82/100\n",
            "60/60 [==============================] - 0s 5ms/step - loss: 0.0016 - accuracy: 1.0000 - val_loss: 0.5399 - val_accuracy: 0.8533\n",
            "Epoch 83/100\n",
            "60/60 [==============================] - 0s 5ms/step - loss: 0.0016 - accuracy: 1.0000 - val_loss: 0.5420 - val_accuracy: 0.8533\n",
            "Epoch 84/100\n",
            "60/60 [==============================] - 0s 4ms/step - loss: 0.0016 - accuracy: 1.0000 - val_loss: 0.5436 - val_accuracy: 0.8533\n",
            "Epoch 85/100\n",
            "60/60 [==============================] - 0s 4ms/step - loss: 0.0015 - accuracy: 1.0000 - val_loss: 0.5456 - val_accuracy: 0.8533\n",
            "Epoch 86/100\n",
            "60/60 [==============================] - 0s 4ms/step - loss: 0.0015 - accuracy: 1.0000 - val_loss: 0.5475 - val_accuracy: 0.8533\n",
            "Epoch 87/100\n",
            "60/60 [==============================] - 0s 4ms/step - loss: 0.0015 - accuracy: 1.0000 - val_loss: 0.5492 - val_accuracy: 0.8533\n",
            "Epoch 88/100\n",
            "60/60 [==============================] - 0s 4ms/step - loss: 0.0015 - accuracy: 1.0000 - val_loss: 0.5510 - val_accuracy: 0.8533\n",
            "Epoch 89/100\n",
            "60/60 [==============================] - 0s 4ms/step - loss: 0.0014 - accuracy: 1.0000 - val_loss: 0.5530 - val_accuracy: 0.8533\n",
            "Epoch 90/100\n",
            "60/60 [==============================] - 0s 4ms/step - loss: 0.0014 - accuracy: 1.0000 - val_loss: 0.5550 - val_accuracy: 0.8533\n",
            "Epoch 91/100\n",
            "60/60 [==============================] - 0s 5ms/step - loss: 0.0014 - accuracy: 1.0000 - val_loss: 0.5574 - val_accuracy: 0.8467\n",
            "Epoch 92/100\n",
            "60/60 [==============================] - 0s 4ms/step - loss: 0.0014 - accuracy: 1.0000 - val_loss: 0.5582 - val_accuracy: 0.8467\n",
            "Epoch 93/100\n",
            "60/60 [==============================] - 0s 4ms/step - loss: 0.0013 - accuracy: 1.0000 - val_loss: 0.5606 - val_accuracy: 0.8467\n",
            "Epoch 94/100\n",
            "60/60 [==============================] - 0s 4ms/step - loss: 0.0013 - accuracy: 1.0000 - val_loss: 0.5626 - val_accuracy: 0.8467\n",
            "Epoch 95/100\n",
            "60/60 [==============================] - 0s 4ms/step - loss: 0.0013 - accuracy: 1.0000 - val_loss: 0.5646 - val_accuracy: 0.8467\n",
            "Epoch 96/100\n",
            "60/60 [==============================] - 0s 4ms/step - loss: 0.0013 - accuracy: 1.0000 - val_loss: 0.5658 - val_accuracy: 0.8467\n",
            "Epoch 97/100\n",
            "60/60 [==============================] - 0s 4ms/step - loss: 0.0013 - accuracy: 1.0000 - val_loss: 0.5683 - val_accuracy: 0.8467\n",
            "Epoch 98/100\n",
            "60/60 [==============================] - 0s 4ms/step - loss: 0.0012 - accuracy: 1.0000 - val_loss: 0.5697 - val_accuracy: 0.8467\n",
            "Epoch 99/100\n",
            "60/60 [==============================] - 0s 4ms/step - loss: 0.0012 - accuracy: 1.0000 - val_loss: 0.5718 - val_accuracy: 0.8467\n",
            "Epoch 100/100\n",
            "60/60 [==============================] - 0s 5ms/step - loss: 0.0012 - accuracy: 1.0000 - val_loss: 0.5734 - val_accuracy: 0.8467\n",
            "Test Accuracy:  77.20000147819519\n"
          ]
        }
      ]
    },
    {
      "cell_type": "code",
      "source": [
        "plt.figure(figsize=(8, 6), dpi=80)\n",
        "\n",
        "plt.subplot(2,1,1)\n",
        "plt.plot(hist.history['accuracy'])\n",
        "plt.plot(hist.history['val_accuracy'])\n",
        "plt.title('model accuracy')\n",
        "plt.ylabel('accuracy')\n",
        "plt.xlabel('epoch')\n",
        "plt.legend(['train', 'test'], loc='lower right')\n",
        "\n",
        "plt.subplot(2,1,2)\n",
        "plt.plot(hist.history['loss'])\n",
        "plt.plot(hist.history['val_loss'])\n",
        "plt.title('model loss')\n",
        "plt.ylabel('loss')\n",
        "plt.xlabel('epoch')\n",
        "plt.legend(['train', 'test'], loc='upper right')\n",
        "\n",
        "plt.show()"
      ],
      "metadata": {
        "colab": {
          "base_uri": "https://localhost:8080/",
          "height": 444
        },
        "id": "eBhjEPz9cUDq",
        "outputId": "30d1a625-24ea-4140-8345-cdf89d6202ed"
      },
      "execution_count": null,
      "outputs": [
        {
          "output_type": "display_data",
          "data": {
            "text/plain": [
              "<Figure size 640x480 with 2 Axes>"
            ],
            "image/png": "[encoded data removed]"
          },
          "metadata": {
            "needs_background": "light"
          }
        }
      ]
    },
    {
      "cell_type": "markdown",
      "source": [
        "\n",
        "Q4- Explain these graphs. If you see any issue, suggest a solution to resolve it. Make the model by creating 3 hidden layers (first one 200 nodes, second one 100 nodes and last one 50 nodes and after each step, add dropout of 0.2 and report the accuracy. <br>\n",
        "Answer 4 <br>\n",
        "In the graph above we see a case of overfitting. This means the model that we have trained knows the data too well. <br>\n",
        "Overfitting can be handled by removing layers and or by reducind the hidden layer elements. <br>\n",
        "Here we can also add dropout layers and then measure the acccuracy and then adjust more if needed. <br>"
      ],
      "metadata": {
        "id": "U7Q8DSTkZZCZ"
      }
    },
    {
      "cell_type": "code",
      "source": [
        "X_train.shape"
      ],
      "metadata": {
        "colab": {
          "base_uri": "https://localhost:8080/"
        },
        "id": "fXGiUzq-8Vyt",
        "outputId": "da51f446-5f9c-4fda-db7b-a809db408c80"
      },
      "execution_count": null,
      "outputs": [
        {
          "output_type": "execute_result",
          "data": {
            "text/plain": [
              "(750, 1546)"
            ]
          },
          "metadata": {},
          "execution_count": 84
        }
      ]
    },
    {
      "cell_type": "code",
      "source": [
        "y_train.shape"
      ],
      "metadata": {
        "colab": {
          "base_uri": "https://localhost:8080/"
        },
        "id": "kB8QsAvj8ZlW",
        "outputId": "8977da26-a167-4ba6-f981-4073194c96cb"
      },
      "execution_count": null,
      "outputs": [
        {
          "output_type": "execute_result",
          "data": {
            "text/plain": [
              "(750,)"
            ]
          },
          "metadata": {},
          "execution_count": 85
        }
      ]
    },
    {
      "cell_type": "markdown",
      "source": [
        "Below is the model for first one 200 nodes, second one 100 nodes and last one 50 nodes and after each step, add dropout of 0.2 and report the accuracy.\n",
        "\n"
      ],
      "metadata": {
        "id": "r5XRr5DENJXG"
      }
    },
    {
      "cell_type": "code",
      "source": [
        "model2 = Sequential()\n",
        "model2.add(layers.Dense(10, input_dim=input_dim, activation='relu'))\n",
        "model2.add(layers.Dense(200, activation='relu'))\n",
        "model2.add(layers.Dropout(0.2))\n",
        "model2.add(layers.Dense(100, activation='relu'))\n",
        "model2.add(layers.Dropout(0.2))\n",
        "model2.add(layers.Dense(50, activation='relu'))\n",
        "model2.add(layers.Dropout(0.2))\n",
        "model2.add(layers.Dense(1, activation='sigmoid'))\n",
        "model2.compile(optimizer='adam', loss='binary_crossentropy',\n",
        "metrics=['accuracy'])\n",
        "model2.summary()"
      ],
      "metadata": {
        "colab": {
          "base_uri": "https://localhost:8080/"
        },
        "id": "W5QynstQ7hN4",
        "outputId": "e18ea979-ed7f-4457-cf06-e26ab230dcd4"
      },
      "execution_count": null,
      "outputs": [
        {
          "output_type": "stream",
          "name": "stdout",
          "text": [
            "Model: \"sequential_8\"\n",
            "_________________________________________________________________\n",
            " Layer (type)                Output Shape              Param #   \n",
            "=================================================================\n",
            " dense_22 (Dense)            (None, 10)                15470     \n",
            "                                                                 \n",
            " dense_23 (Dense)            (None, 200)               2200      \n",
            "                                                                 \n",
            " dropout_11 (Dropout)        (None, 200)               0         \n",
            "                                                                 \n",
            " dense_24 (Dense)            (None, 100)               20100     \n",
            "                                                                 \n",
            " dropout_12 (Dropout)        (None, 100)               0         \n",
            "                                                                 \n",
            " dense_25 (Dense)            (None, 50)                5050      \n",
            "                                                                 \n",
            " dropout_13 (Dropout)        (None, 50)                0         \n",
            "                                                                 \n",
            " dense_26 (Dense)            (None, 1)                 51        \n",
            "                                                                 \n",
            "=================================================================\n",
            "Total params: 42,871\n",
            "Trainable params: 42,871\n",
            "Non-trainable params: 0\n",
            "_________________________________________________________________\n"
          ]
        }
      ]
    },
    {
      "cell_type": "code",
      "source": [
        "model2.compile(loss='binary_crossentropy', optimizer='adam', metrics=['accuracy'])\n",
        "hist = model2.fit(X_train, y_train, epochs=100, validation_split=0.2 , batch_size=10)\n",
        "loss, accuracy = model2.evaluate(X_test, y_test, verbose=False)\n",
        "print(\"Test Accuracy: \",accuracy*100)"
      ],
      "metadata": {
        "colab": {
          "base_uri": "https://localhost:8080/"
        },
        "id": "bjsfGfIh9CLH",
        "outputId": "16991477-f2ff-4bc5-f3d6-4771408ca565"
      },
      "execution_count": null,
      "outputs": [
        {
          "output_type": "stream",
          "name": "stdout",
          "text": [
            "Epoch 1/100\n",
            "60/60 [==============================] - 1s 8ms/step - loss: 0.6915 - accuracy: 0.5300 - val_loss: 0.6785 - val_accuracy: 0.6600\n",
            "Epoch 2/100\n",
            "60/60 [==============================] - 0s 5ms/step - loss: 0.5786 - accuracy: 0.7483 - val_loss: 0.4833 - val_accuracy: 0.7867\n",
            "Epoch 3/100\n",
            "60/60 [==============================] - 0s 5ms/step - loss: 0.1881 - accuracy: 0.9433 - val_loss: 0.4877 - val_accuracy: 0.8067\n",
            "Epoch 4/100\n",
            "60/60 [==============================] - 0s 5ms/step - loss: 0.0579 - accuracy: 0.9833 - val_loss: 0.5398 - val_accuracy: 0.8133\n",
            "Epoch 5/100\n",
            "60/60 [==============================] - 0s 5ms/step - loss: 0.0180 - accuracy: 0.9933 - val_loss: 0.6022 - val_accuracy: 0.8067\n",
            "Epoch 6/100\n",
            "60/60 [==============================] - 0s 5ms/step - loss: 0.0060 - accuracy: 0.9983 - val_loss: 0.6697 - val_accuracy: 0.8133\n",
            "Epoch 7/100\n",
            "60/60 [==============================] - 0s 5ms/step - loss: 0.0027 - accuracy: 1.0000 - val_loss: 0.7196 - val_accuracy: 0.8133\n",
            "Epoch 8/100\n",
            "60/60 [==============================] - 0s 5ms/step - loss: 0.0013 - accuracy: 1.0000 - val_loss: 0.7435 - val_accuracy: 0.8200\n",
            "Epoch 9/100\n",
            "60/60 [==============================] - 0s 5ms/step - loss: 8.4909e-04 - accuracy: 1.0000 - val_loss: 0.7852 - val_accuracy: 0.8267\n",
            "Epoch 10/100\n",
            "60/60 [==============================] - 0s 4ms/step - loss: 0.0012 - accuracy: 1.0000 - val_loss: 0.8161 - val_accuracy: 0.8200\n",
            "Epoch 11/100\n",
            "60/60 [==============================] - 0s 5ms/step - loss: 3.4158e-04 - accuracy: 1.0000 - val_loss: 0.8619 - val_accuracy: 0.8200\n",
            "Epoch 12/100\n",
            "60/60 [==============================] - 0s 5ms/step - loss: 4.9141e-04 - accuracy: 1.0000 - val_loss: 0.8619 - val_accuracy: 0.8267\n",
            "Epoch 13/100\n",
            "60/60 [==============================] - 0s 5ms/step - loss: 1.9956e-04 - accuracy: 1.0000 - val_loss: 0.8769 - val_accuracy: 0.8267\n",
            "Epoch 14/100\n",
            "60/60 [==============================] - 0s 5ms/step - loss: 2.5112e-04 - accuracy: 1.0000 - val_loss: 0.8981 - val_accuracy: 0.8200\n",
            "Epoch 15/100\n",
            "60/60 [==============================] - 0s 5ms/step - loss: 1.1760e-04 - accuracy: 1.0000 - val_loss: 0.9080 - val_accuracy: 0.8267\n",
            "Epoch 16/100\n",
            "60/60 [==============================] - 0s 5ms/step - loss: 2.1522e-04 - accuracy: 1.0000 - val_loss: 0.9336 - val_accuracy: 0.8133\n",
            "Epoch 17/100\n",
            "60/60 [==============================] - 0s 5ms/step - loss: 1.2838e-04 - accuracy: 1.0000 - val_loss: 0.9421 - val_accuracy: 0.8200\n",
            "Epoch 18/100\n",
            "60/60 [==============================] - 0s 5ms/step - loss: 1.2800e-04 - accuracy: 1.0000 - val_loss: 0.9508 - val_accuracy: 0.8267\n",
            "Epoch 19/100\n",
            "60/60 [==============================] - 0s 5ms/step - loss: 9.8009e-05 - accuracy: 1.0000 - val_loss: 0.9621 - val_accuracy: 0.8267\n",
            "Epoch 20/100\n",
            "60/60 [==============================] - 0s 5ms/step - loss: 1.0845e-04 - accuracy: 1.0000 - val_loss: 0.9727 - val_accuracy: 0.8333\n",
            "Epoch 21/100\n",
            "60/60 [==============================] - 0s 5ms/step - loss: 1.1779e-04 - accuracy: 1.0000 - val_loss: 0.9860 - val_accuracy: 0.8333\n",
            "Epoch 22/100\n",
            "60/60 [==============================] - 0s 5ms/step - loss: 8.9952e-05 - accuracy: 1.0000 - val_loss: 0.9982 - val_accuracy: 0.8333\n",
            "Epoch 23/100\n",
            "60/60 [==============================] - 0s 5ms/step - loss: 5.5422e-05 - accuracy: 1.0000 - val_loss: 1.0031 - val_accuracy: 0.8333\n",
            "Epoch 24/100\n",
            "60/60 [==============================] - 0s 5ms/step - loss: 8.4789e-05 - accuracy: 1.0000 - val_loss: 1.0098 - val_accuracy: 0.8333\n",
            "Epoch 25/100\n",
            "60/60 [==============================] - 0s 5ms/step - loss: 7.1533e-05 - accuracy: 1.0000 - val_loss: 1.0196 - val_accuracy: 0.8333\n",
            "Epoch 26/100\n",
            "60/60 [==============================] - 0s 5ms/step - loss: 5.1510e-05 - accuracy: 1.0000 - val_loss: 1.0282 - val_accuracy: 0.8267\n",
            "Epoch 27/100\n",
            "60/60 [==============================] - 0s 5ms/step - loss: 6.4364e-05 - accuracy: 1.0000 - val_loss: 1.0407 - val_accuracy: 0.8267\n",
            "Epoch 28/100\n",
            "60/60 [==============================] - 0s 5ms/step - loss: 4.4614e-05 - accuracy: 1.0000 - val_loss: 1.0508 - val_accuracy: 0.8267\n",
            "Epoch 29/100\n",
            "60/60 [==============================] - 0s 5ms/step - loss: 3.4932e-05 - accuracy: 1.0000 - val_loss: 1.0596 - val_accuracy: 0.8267\n",
            "Epoch 30/100\n",
            "60/60 [==============================] - 0s 4ms/step - loss: 4.0769e-05 - accuracy: 1.0000 - val_loss: 1.0656 - val_accuracy: 0.8267\n",
            "Epoch 31/100\n",
            "60/60 [==============================] - 0s 5ms/step - loss: 3.1487e-05 - accuracy: 1.0000 - val_loss: 1.0749 - val_accuracy: 0.8267\n",
            "Epoch 32/100\n",
            "60/60 [==============================] - 0s 5ms/step - loss: 1.1219e-04 - accuracy: 1.0000 - val_loss: 1.1143 - val_accuracy: 0.8333\n",
            "Epoch 33/100\n",
            "60/60 [==============================] - 0s 5ms/step - loss: 2.8167e-05 - accuracy: 1.0000 - val_loss: 1.1191 - val_accuracy: 0.8333\n",
            "Epoch 34/100\n",
            "60/60 [==============================] - 0s 5ms/step - loss: 9.3135e-05 - accuracy: 1.0000 - val_loss: 1.0802 - val_accuracy: 0.8400\n",
            "Epoch 35/100\n",
            "60/60 [==============================] - 0s 5ms/step - loss: 1.6533e-05 - accuracy: 1.0000 - val_loss: 1.0860 - val_accuracy: 0.8400\n",
            "Epoch 36/100\n",
            "60/60 [==============================] - 0s 5ms/step - loss: 2.6062e-05 - accuracy: 1.0000 - val_loss: 1.0952 - val_accuracy: 0.8333\n",
            "Epoch 37/100\n",
            "60/60 [==============================] - 0s 5ms/step - loss: 1.6940e-05 - accuracy: 1.0000 - val_loss: 1.1019 - val_accuracy: 0.8333\n",
            "Epoch 38/100\n",
            "60/60 [==============================] - 0s 4ms/step - loss: 1.6259e-05 - accuracy: 1.0000 - val_loss: 1.1085 - val_accuracy: 0.8333\n",
            "Epoch 39/100\n",
            "60/60 [==============================] - 0s 5ms/step - loss: 2.0470e-05 - accuracy: 1.0000 - val_loss: 1.1153 - val_accuracy: 0.8333\n",
            "Epoch 40/100\n",
            "60/60 [==============================] - 0s 5ms/step - loss: 2.6110e-05 - accuracy: 1.0000 - val_loss: 1.1265 - val_accuracy: 0.8333\n",
            "Epoch 41/100\n",
            "60/60 [==============================] - 0s 4ms/step - loss: 2.1542e-05 - accuracy: 1.0000 - val_loss: 1.1385 - val_accuracy: 0.8333\n",
            "Epoch 42/100\n",
            "60/60 [==============================] - 0s 5ms/step - loss: 2.3408e-05 - accuracy: 1.0000 - val_loss: 1.1454 - val_accuracy: 0.8400\n",
            "Epoch 43/100\n",
            "60/60 [==============================] - 0s 5ms/step - loss: 2.5170e-05 - accuracy: 1.0000 - val_loss: 1.1599 - val_accuracy: 0.8333\n",
            "Epoch 44/100\n",
            "60/60 [==============================] - 0s 5ms/step - loss: 1.1297e-05 - accuracy: 1.0000 - val_loss: 1.1659 - val_accuracy: 0.8333\n",
            "Epoch 45/100\n",
            "60/60 [==============================] - 0s 5ms/step - loss: 2.6596e-05 - accuracy: 1.0000 - val_loss: 1.1790 - val_accuracy: 0.8267\n",
            "Epoch 46/100\n",
            "60/60 [==============================] - 0s 5ms/step - loss: 7.1219e-06 - accuracy: 1.0000 - val_loss: 1.1891 - val_accuracy: 0.8267\n",
            "Epoch 47/100\n",
            "60/60 [==============================] - 0s 5ms/step - loss: 4.9026e-06 - accuracy: 1.0000 - val_loss: 1.1922 - val_accuracy: 0.8267\n",
            "Epoch 48/100\n",
            "60/60 [==============================] - 0s 5ms/step - loss: 5.2446e-06 - accuracy: 1.0000 - val_loss: 1.1956 - val_accuracy: 0.8267\n",
            "Epoch 49/100\n",
            "60/60 [==============================] - 0s 5ms/step - loss: 1.0963e-05 - accuracy: 1.0000 - val_loss: 1.1999 - val_accuracy: 0.8267\n",
            "Epoch 50/100\n",
            "60/60 [==============================] - 0s 5ms/step - loss: 1.6303e-05 - accuracy: 1.0000 - val_loss: 1.2059 - val_accuracy: 0.8333\n",
            "Epoch 51/100\n",
            "60/60 [==============================] - 0s 5ms/step - loss: 8.1144e-06 - accuracy: 1.0000 - val_loss: 1.2115 - val_accuracy: 0.8333\n",
            "Epoch 52/100\n",
            "60/60 [==============================] - 0s 5ms/step - loss: 1.5448e-05 - accuracy: 1.0000 - val_loss: 1.2238 - val_accuracy: 0.8333\n",
            "Epoch 53/100\n",
            "60/60 [==============================] - 0s 5ms/step - loss: 1.3576e-05 - accuracy: 1.0000 - val_loss: 1.2366 - val_accuracy: 0.8333\n",
            "Epoch 54/100\n",
            "60/60 [==============================] - 0s 5ms/step - loss: 8.6381e-06 - accuracy: 1.0000 - val_loss: 1.2452 - val_accuracy: 0.8267\n",
            "Epoch 55/100\n",
            "60/60 [==============================] - 0s 5ms/step - loss: 5.1994e-06 - accuracy: 1.0000 - val_loss: 1.2488 - val_accuracy: 0.8333\n",
            "Epoch 56/100\n",
            "60/60 [==============================] - 0s 4ms/step - loss: 5.9808e-06 - accuracy: 1.0000 - val_loss: 1.2545 - val_accuracy: 0.8333\n",
            "Epoch 57/100\n",
            "60/60 [==============================] - 0s 5ms/step - loss: 6.0888e-06 - accuracy: 1.0000 - val_loss: 1.2643 - val_accuracy: 0.8267\n",
            "Epoch 58/100\n",
            "60/60 [==============================] - 0s 4ms/step - loss: 6.3049e-06 - accuracy: 1.0000 - val_loss: 1.2716 - val_accuracy: 0.8267\n",
            "Epoch 59/100\n",
            "60/60 [==============================] - 0s 5ms/step - loss: 3.0763e-06 - accuracy: 1.0000 - val_loss: 1.2748 - val_accuracy: 0.8267\n",
            "Epoch 60/100\n",
            "60/60 [==============================] - 0s 5ms/step - loss: 6.3160e-06 - accuracy: 1.0000 - val_loss: 1.2772 - val_accuracy: 0.8267\n",
            "Epoch 61/100\n",
            "60/60 [==============================] - 0s 5ms/step - loss: 4.4533e-06 - accuracy: 1.0000 - val_loss: 1.2823 - val_accuracy: 0.8333\n",
            "Epoch 62/100\n",
            "60/60 [==============================] - 0s 5ms/step - loss: 2.4830e-05 - accuracy: 1.0000 - val_loss: 1.2703 - val_accuracy: 0.8333\n",
            "Epoch 63/100\n",
            "60/60 [==============================] - 0s 5ms/step - loss: 7.1226e-06 - accuracy: 1.0000 - val_loss: 1.2760 - val_accuracy: 0.8333\n",
            "Epoch 64/100\n",
            "60/60 [==============================] - 0s 5ms/step - loss: 7.7359e-05 - accuracy: 1.0000 - val_loss: 1.3058 - val_accuracy: 0.8400\n",
            "Epoch 65/100\n",
            "60/60 [==============================] - 0s 5ms/step - loss: 3.1448e-06 - accuracy: 1.0000 - val_loss: 1.3564 - val_accuracy: 0.8467\n",
            "Epoch 66/100\n",
            "60/60 [==============================] - 0s 5ms/step - loss: 1.8989e-05 - accuracy: 1.0000 - val_loss: 1.3141 - val_accuracy: 0.8400\n",
            "Epoch 67/100\n",
            "60/60 [==============================] - 0s 5ms/step - loss: 6.3753e-06 - accuracy: 1.0000 - val_loss: 1.3192 - val_accuracy: 0.8400\n",
            "Epoch 68/100\n",
            "60/60 [==============================] - 0s 5ms/step - loss: 1.6576e-06 - accuracy: 1.0000 - val_loss: 1.3238 - val_accuracy: 0.8400\n",
            "Epoch 69/100\n",
            "60/60 [==============================] - 0s 5ms/step - loss: 3.5345e-06 - accuracy: 1.0000 - val_loss: 1.3306 - val_accuracy: 0.8333\n",
            "Epoch 70/100\n",
            "60/60 [==============================] - 0s 4ms/step - loss: 2.0829e-06 - accuracy: 1.0000 - val_loss: 1.3344 - val_accuracy: 0.8333\n",
            "Epoch 71/100\n",
            "60/60 [==============================] - 0s 5ms/step - loss: 1.4529e-06 - accuracy: 1.0000 - val_loss: 1.3371 - val_accuracy: 0.8333\n",
            "Epoch 72/100\n",
            "60/60 [==============================] - 0s 5ms/step - loss: 5.8505e-06 - accuracy: 1.0000 - val_loss: 1.3564 - val_accuracy: 0.8333\n",
            "Epoch 73/100\n",
            "60/60 [==============================] - 0s 5ms/step - loss: 4.3325e-06 - accuracy: 1.0000 - val_loss: 1.3612 - val_accuracy: 0.8333\n",
            "Epoch 74/100\n",
            "60/60 [==============================] - 0s 5ms/step - loss: 1.3671e-06 - accuracy: 1.0000 - val_loss: 1.3633 - val_accuracy: 0.8333\n",
            "Epoch 75/100\n",
            "60/60 [==============================] - 0s 5ms/step - loss: 3.3767e-06 - accuracy: 1.0000 - val_loss: 1.3699 - val_accuracy: 0.8333\n",
            "Epoch 76/100\n",
            "60/60 [==============================] - 0s 5ms/step - loss: 1.6842e-06 - accuracy: 1.0000 - val_loss: 1.3740 - val_accuracy: 0.8333\n",
            "Epoch 77/100\n",
            "60/60 [==============================] - 0s 5ms/step - loss: 4.7472e-06 - accuracy: 1.0000 - val_loss: 1.3901 - val_accuracy: 0.8333\n",
            "Epoch 78/100\n",
            "60/60 [==============================] - 0s 4ms/step - loss: 1.5152e-06 - accuracy: 1.0000 - val_loss: 1.3950 - val_accuracy: 0.8333\n",
            "Epoch 79/100\n",
            "60/60 [==============================] - 0s 5ms/step - loss: 3.1690e-06 - accuracy: 1.0000 - val_loss: 1.3971 - val_accuracy: 0.8333\n",
            "Epoch 80/100\n",
            "60/60 [==============================] - 0s 5ms/step - loss: 1.3199e-06 - accuracy: 1.0000 - val_loss: 1.3974 - val_accuracy: 0.8333\n",
            "Epoch 81/100\n",
            "60/60 [==============================] - 0s 5ms/step - loss: 8.1353e-06 - accuracy: 1.0000 - val_loss: 1.4465 - val_accuracy: 0.8333\n",
            "Epoch 82/100\n",
            "60/60 [==============================] - 0s 5ms/step - loss: 1.6568e-06 - accuracy: 1.0000 - val_loss: 1.4456 - val_accuracy: 0.8333\n",
            "Epoch 83/100\n",
            "60/60 [==============================] - 0s 5ms/step - loss: 1.0059e-06 - accuracy: 1.0000 - val_loss: 1.4461 - val_accuracy: 0.8333\n",
            "Epoch 84/100\n",
            "60/60 [==============================] - 0s 5ms/step - loss: 1.3552e-06 - accuracy: 1.0000 - val_loss: 1.4466 - val_accuracy: 0.8333\n",
            "Epoch 85/100\n",
            "60/60 [==============================] - 0s 5ms/step - loss: 1.5117e-06 - accuracy: 1.0000 - val_loss: 1.4490 - val_accuracy: 0.8333\n",
            "Epoch 86/100\n",
            "60/60 [==============================] - 0s 5ms/step - loss: 2.2430e-06 - accuracy: 1.0000 - val_loss: 1.4495 - val_accuracy: 0.8333\n",
            "Epoch 87/100\n",
            "60/60 [==============================] - 0s 5ms/step - loss: 1.2125e-06 - accuracy: 1.0000 - val_loss: 1.4541 - val_accuracy: 0.8333\n",
            "Epoch 88/100\n",
            "60/60 [==============================] - 0s 5ms/step - loss: 1.3474e-06 - accuracy: 1.0000 - val_loss: 1.4564 - val_accuracy: 0.8333\n",
            "Epoch 89/100\n",
            "60/60 [==============================] - 0s 5ms/step - loss: 2.1076e-06 - accuracy: 1.0000 - val_loss: 1.4610 - val_accuracy: 0.8333\n",
            "Epoch 90/100\n",
            "60/60 [==============================] - 0s 5ms/step - loss: 1.0612e-06 - accuracy: 1.0000 - val_loss: 1.4624 - val_accuracy: 0.8333\n",
            "Epoch 91/100\n",
            "60/60 [==============================] - 0s 5ms/step - loss: 1.0672e-06 - accuracy: 1.0000 - val_loss: 1.4642 - val_accuracy: 0.8333\n",
            "Epoch 92/100\n",
            "60/60 [==============================] - 0s 5ms/step - loss: 5.3541e-07 - accuracy: 1.0000 - val_loss: 1.4664 - val_accuracy: 0.8333\n",
            "Epoch 93/100\n",
            "60/60 [==============================] - 0s 5ms/step - loss: 9.7996e-07 - accuracy: 1.0000 - val_loss: 1.4682 - val_accuracy: 0.8333\n",
            "Epoch 94/100\n",
            "60/60 [==============================] - 0s 5ms/step - loss: 7.3682e-07 - accuracy: 1.0000 - val_loss: 1.4711 - val_accuracy: 0.8333\n",
            "Epoch 95/100\n",
            "60/60 [==============================] - 0s 5ms/step - loss: 9.0904e-07 - accuracy: 1.0000 - val_loss: 1.4735 - val_accuracy: 0.8333\n",
            "Epoch 96/100\n",
            "60/60 [==============================] - 0s 5ms/step - loss: 3.8038e-06 - accuracy: 1.0000 - val_loss: 1.4879 - val_accuracy: 0.8333\n",
            "Epoch 97/100\n",
            "60/60 [==============================] - 0s 5ms/step - loss: 7.2176e-07 - accuracy: 1.0000 - val_loss: 1.4895 - val_accuracy: 0.8333\n",
            "Epoch 98/100\n",
            "60/60 [==============================] - 0s 5ms/step - loss: 6.0240e-07 - accuracy: 1.0000 - val_loss: 1.4908 - val_accuracy: 0.8333\n",
            "Epoch 99/100\n",
            "60/60 [==============================] - 0s 5ms/step - loss: 1.1810e-06 - accuracy: 1.0000 - val_loss: 1.4928 - val_accuracy: 0.8333\n",
            "Epoch 100/100\n",
            "60/60 [==============================] - 0s 5ms/step - loss: 2.7439e-06 - accuracy: 1.0000 - val_loss: 1.4963 - val_accuracy: 0.8400\n",
            "Test Accuracy:  77.20000147819519\n"
          ]
        }
      ]
    },
    {
      "cell_type": "code",
      "source": [
        "plt.figure(figsize=(8, 6), dpi=80)\n",
        "\n",
        "plt.subplot(2,1,1)\n",
        "plt.plot(hist.history['accuracy'])\n",
        "plt.plot(hist.history['val_accuracy'])\n",
        "plt.title('model accuracy')\n",
        "plt.ylabel('accuracy')\n",
        "plt.xlabel('epoch')\n",
        "plt.legend(['train', 'test'], loc='lower right')\n",
        "\n",
        "plt.subplot(2,1,2)\n",
        "plt.plot(hist.history['loss'])\n",
        "plt.plot(hist.history['val_loss'])\n",
        "plt.title('model loss')\n",
        "plt.ylabel('loss')\n",
        "plt.xlabel('epoch')\n",
        "plt.legend(['train', 'test'], loc='upper right')\n",
        "\n",
        "plt.show()"
      ],
      "metadata": {
        "colab": {
          "base_uri": "https://localhost:8080/",
          "height": 444
        },
        "id": "8IKwwNeG9GEJ",
        "outputId": "91e2968e-1000-4d4a-a804-82d433a4d6a9"
      },
      "execution_count": null,
      "outputs": [
        {
          "output_type": "display_data",
          "data": {
            "text/plain": [
              "<Figure size 640x480 with 2 Axes>"
            ],
            "image/png": "[encoded data removed]"
          },
          "metadata": {
            "needs_background": "light"
          }
        }
      ]
    },
    {
      "cell_type": "markdown",
      "source": [
        "There is still overfitting. Add more content here."
      ],
      "metadata": {
        "id": "KVlS5MdF-MxR"
      }
    },
    {
      "cell_type": "code",
      "source": [
        "X_train = vectorizer.transform(sentences_train).toarray()\n",
        "X_test = vectorizer.transform(sentences_test).toarray()"
      ],
      "metadata": {
        "id": "0uajF3cA4zAt"
      },
      "execution_count": null,
      "outputs": []
    },
    {
      "cell_type": "code",
      "source": [
        "from keras.preprocessing.text import Tokenizer"
      ],
      "metadata": {
        "id": "BBiinR1oY9Xd"
      },
      "execution_count": null,
      "outputs": []
    },
    {
      "cell_type": "code",
      "source": [
        "tokenizer = Tokenizer(num_words=5000)\n",
        "tokenizer.fit_on_texts(sentences_train)"
      ],
      "metadata": {
        "id": "E37mgZmLY9U-"
      },
      "execution_count": null,
      "outputs": []
    },
    {
      "cell_type": "code",
      "source": [
        "X_train = tokenizer.texts_to_sequences(sentences_train)\n",
        "X_test = tokenizer.texts_to_sequences(sentences_test)"
      ],
      "metadata": {
        "id": "o35hhEHDY9Si"
      },
      "execution_count": null,
      "outputs": []
    },
    {
      "cell_type": "code",
      "source": [
        "vocab_size = len(tokenizer.word_index) + 1 # Adding 1 because of reserved 0 index"
      ],
      "metadata": {
        "id": "riT9DdbDY9Pl"
      },
      "execution_count": null,
      "outputs": []
    },
    {
      "cell_type": "code",
      "source": [
        "print(sentences_train[3])\n",
        "print(X_train[3])"
      ],
      "metadata": {
        "colab": {
          "base_uri": "https://localhost:8080/"
        },
        "id": "G6cPputgY9Ms",
        "outputId": "c42e3477-6c39-4a17-c721-be8ea524e4a4"
      },
      "execution_count": null,
      "outputs": [
        {
          "output_type": "stream",
          "name": "stdout",
          "text": [
            "This is the phone to get for 2005.... I just bought my S710a and all I can say is WOW!\n",
            "[7, 5, 1, 9, 8, 92, 11, 676, 2, 59, 101, 10, 677, 3, 32, 2, 71, 225, 5, 449]\n"
          ]
        }
      ]
    },
    {
      "cell_type": "code",
      "source": [
        "for word in ['the', 'all', 'happy']:\n",
        "  print('{}: {}'.format(word, tokenizer.word_index[word]))"
      ],
      "metadata": {
        "colab": {
          "base_uri": "https://localhost:8080/"
        },
        "id": "CoHz1mzPY9KG",
        "outputId": "825a6c8b-475d-4fb1-8ab4-ae776349b3dd"
      },
      "execution_count": null,
      "outputs": [
        {
          "output_type": "stream",
          "name": "stdout",
          "text": [
            "the: 1\n",
            "all: 32\n",
            "happy: 86\n"
          ]
        }
      ]
    },
    {
      "cell_type": "code",
      "source": [
        "from keras.preprocessing.sequence import pad_sequences"
      ],
      "metadata": {
        "id": "B3HGMtJzY9G9"
      },
      "execution_count": null,
      "outputs": []
    },
    {
      "cell_type": "code",
      "source": [
        "maxlen = 100"
      ],
      "metadata": {
        "id": "AkIazueCaMUU"
      },
      "execution_count": null,
      "outputs": []
    },
    {
      "cell_type": "code",
      "source": [
        "X_train = pad_sequences(X_train, padding='post', maxlen=maxlen)\n",
        "X_test = pad_sequences(X_test, padding='post', maxlen=maxlen)\n",
        "print(X_train[0, :])"
      ],
      "metadata": {
        "colab": {
          "base_uri": "https://localhost:8080/"
        },
        "id": "rPZUcYI1aFLK",
        "outputId": "89fa1e5a-84fd-4fbd-c5ec-7be14505938f"
      },
      "execution_count": null,
      "outputs": [
        {
          "output_type": "stream",
          "name": "stdout",
          "text": [
            "[  7  24   5  16   4 137 148   6 223 315   2  71 224   8   1 673 111 444\n",
            "  18 316  11 445   0   0   0   0   0   0   0   0   0   0   0   0   0   0\n",
            "   0   0   0   0   0   0   0   0   0   0   0   0   0   0   0   0   0   0\n",
            "   0   0   0   0   0   0   0   0   0   0   0   0   0   0   0   0   0   0\n",
            "   0   0   0   0   0   0   0   0   0   0   0   0   0   0   0   0   0   0\n",
            "   0   0   0   0   0   0   0   0   0   0]\n"
          ]
        }
      ]
    },
    {
      "cell_type": "code",
      "source": [
        "from tensorflow.keras.models import Sequential\n",
        "from tensorflow.keras import layers"
      ],
      "metadata": {
        "id": "L3pzlfwfaFIF"
      },
      "execution_count": null,
      "outputs": []
    },
    {
      "cell_type": "code",
      "source": [
        "embedding_dim = 50"
      ],
      "metadata": {
        "id": "7zRpMj8NaFFw"
      },
      "execution_count": null,
      "outputs": []
    },
    {
      "cell_type": "code",
      "source": [
        "model = Sequential()\n",
        "model.add(layers.Embedding(input_dim=vocab_size, output_dim=embedding_dim, input_length=maxlen))\n",
        "model.add(layers.GlobalMaxPool1D())\n",
        "model.add(layers.Dense(10, activation='relu'))\n",
        "model.add(layers.Dense(1, activation='sigmoid'))\n",
        "model.compile(optimizer='adam', loss='binary_crossentropy', metrics=['accuracy'])\n",
        "model.summary()"
      ],
      "metadata": {
        "colab": {
          "base_uri": "https://localhost:8080/"
        },
        "id": "alvKuXodaFDH",
        "outputId": "ba18d99c-f8e1-4ee9-d0a1-a9e23511e58f"
      },
      "execution_count": null,
      "outputs": [
        {
          "output_type": "stream",
          "name": "stdout",
          "text": [
            "Model: \"sequential_10\"\n",
            "_________________________________________________________________\n",
            " Layer (type)                Output Shape              Param #   \n",
            "=================================================================\n",
            " embedding_3 (Embedding)     (None, 100, 50)           78700     \n",
            "                                                                 \n",
            " global_max_pooling1d_5 (Glo  (None, 50)               0         \n",
            " balMaxPooling1D)                                                \n",
            "                                                                 \n",
            " dense_30 (Dense)            (None, 10)                510       \n",
            "                                                                 \n",
            " dense_31 (Dense)            (None, 1)                 11        \n",
            "                                                                 \n",
            "=================================================================\n",
            "Total params: 79,221\n",
            "Trainable params: 79,221\n",
            "Non-trainable params: 0\n",
            "_________________________________________________________________\n"
          ]
        }
      ]
    },
    {
      "cell_type": "code",
      "source": [
        "hist = model.fit(X_train, y_train, epochs=50, validation_split=0.2, batch_size=10)\n",
        "loss, accuracy = model.evaluate(X_test, y_test, verbose=False)\n"
      ],
      "metadata": {
        "colab": {
          "base_uri": "https://localhost:8080/"
        },
        "id": "JT0Q-PCNaE-p",
        "outputId": "d006638d-b3fd-4d8f-b679-5744e2fa30ef"
      },
      "execution_count": null,
      "outputs": [
        {
          "output_type": "stream",
          "name": "stdout",
          "text": [
            "Epoch 1/50\n",
            "60/60 [==============================] - 1s 8ms/step - loss: 0.6897 - accuracy: 0.5383 - val_loss: 0.6838 - val_accuracy: 0.7400\n",
            "Epoch 2/50\n",
            "60/60 [==============================] - 0s 6ms/step - loss: 0.6668 - accuracy: 0.8933 - val_loss: 0.6624 - val_accuracy: 0.7733\n",
            "Epoch 3/50\n",
            "60/60 [==============================] - 0s 6ms/step - loss: 0.6155 - accuracy: 0.9383 - val_loss: 0.6177 - val_accuracy: 0.7867\n",
            "Epoch 4/50\n",
            "60/60 [==============================] - 0s 5ms/step - loss: 0.5173 - accuracy: 0.9517 - val_loss: 0.5485 - val_accuracy: 0.7933\n",
            "Epoch 5/50\n",
            "60/60 [==============================] - 0s 6ms/step - loss: 0.3879 - accuracy: 0.9617 - val_loss: 0.4835 - val_accuracy: 0.8067\n",
            "Epoch 6/50\n",
            "60/60 [==============================] - 0s 5ms/step - loss: 0.2659 - accuracy: 0.9683 - val_loss: 0.4369 - val_accuracy: 0.8267\n",
            "Epoch 7/50\n",
            "60/60 [==============================] - 0s 5ms/step - loss: 0.1646 - accuracy: 0.9750 - val_loss: 0.4050 - val_accuracy: 0.8333\n",
            "Epoch 8/50\n",
            "60/60 [==============================] - 0s 5ms/step - loss: 0.1026 - accuracy: 0.9867 - val_loss: 0.3953 - val_accuracy: 0.8467\n",
            "Epoch 9/50\n",
            "60/60 [==============================] - 0s 6ms/step - loss: 0.0661 - accuracy: 0.9933 - val_loss: 0.3907 - val_accuracy: 0.8333\n",
            "Epoch 10/50\n",
            "60/60 [==============================] - 0s 5ms/step - loss: 0.0446 - accuracy: 0.9950 - val_loss: 0.3884 - val_accuracy: 0.8267\n",
            "Epoch 11/50\n",
            "60/60 [==============================] - 0s 5ms/step - loss: 0.0311 - accuracy: 0.9983 - val_loss: 0.3872 - val_accuracy: 0.8333\n",
            "Epoch 12/50\n",
            "60/60 [==============================] - 0s 5ms/step - loss: 0.0224 - accuracy: 1.0000 - val_loss: 0.3911 - val_accuracy: 0.8267\n",
            "Epoch 13/50\n",
            "60/60 [==============================] - 0s 5ms/step - loss: 0.0166 - accuracy: 1.0000 - val_loss: 0.3905 - val_accuracy: 0.8267\n",
            "Epoch 14/50\n",
            "60/60 [==============================] - 0s 5ms/step - loss: 0.0128 - accuracy: 1.0000 - val_loss: 0.3939 - val_accuracy: 0.8267\n",
            "Epoch 15/50\n",
            "60/60 [==============================] - 0s 6ms/step - loss: 0.0100 - accuracy: 1.0000 - val_loss: 0.3970 - val_accuracy: 0.8267\n",
            "Epoch 16/50\n",
            "60/60 [==============================] - 0s 5ms/step - loss: 0.0081 - accuracy: 1.0000 - val_loss: 0.4010 - val_accuracy: 0.8333\n",
            "Epoch 17/50\n",
            "60/60 [==============================] - 0s 6ms/step - loss: 0.0066 - accuracy: 1.0000 - val_loss: 0.4046 - val_accuracy: 0.8267\n",
            "Epoch 18/50\n",
            "60/60 [==============================] - 0s 5ms/step - loss: 0.0055 - accuracy: 1.0000 - val_loss: 0.4074 - val_accuracy: 0.8333\n",
            "Epoch 19/50\n",
            "60/60 [==============================] - 0s 5ms/step - loss: 0.0046 - accuracy: 1.0000 - val_loss: 0.4110 - val_accuracy: 0.8400\n",
            "Epoch 20/50\n",
            "60/60 [==============================] - 0s 6ms/step - loss: 0.0040 - accuracy: 1.0000 - val_loss: 0.4143 - val_accuracy: 0.8400\n",
            "Epoch 21/50\n",
            "60/60 [==============================] - 0s 6ms/step - loss: 0.0034 - accuracy: 1.0000 - val_loss: 0.4170 - val_accuracy: 0.8400\n",
            "Epoch 22/50\n",
            "60/60 [==============================] - 0s 5ms/step - loss: 0.0030 - accuracy: 1.0000 - val_loss: 0.4205 - val_accuracy: 0.8400\n",
            "Epoch 23/50\n",
            "60/60 [==============================] - 0s 5ms/step - loss: 0.0026 - accuracy: 1.0000 - val_loss: 0.4231 - val_accuracy: 0.8400\n",
            "Epoch 24/50\n",
            "60/60 [==============================] - 0s 5ms/step - loss: 0.0023 - accuracy: 1.0000 - val_loss: 0.4266 - val_accuracy: 0.8400\n",
            "Epoch 25/50\n",
            "60/60 [==============================] - 0s 5ms/step - loss: 0.0020 - accuracy: 1.0000 - val_loss: 0.4291 - val_accuracy: 0.8333\n",
            "Epoch 26/50\n",
            "60/60 [==============================] - 0s 5ms/step - loss: 0.0018 - accuracy: 1.0000 - val_loss: 0.4307 - val_accuracy: 0.8333\n",
            "Epoch 27/50\n",
            "60/60 [==============================] - 0s 5ms/step - loss: 0.0016 - accuracy: 1.0000 - val_loss: 0.4339 - val_accuracy: 0.8333\n",
            "Epoch 28/50\n",
            "60/60 [==============================] - 0s 6ms/step - loss: 0.0015 - accuracy: 1.0000 - val_loss: 0.4355 - val_accuracy: 0.8267\n",
            "Epoch 29/50\n",
            "60/60 [==============================] - 0s 5ms/step - loss: 0.0013 - accuracy: 1.0000 - val_loss: 0.4380 - val_accuracy: 0.8333\n",
            "Epoch 30/50\n",
            "60/60 [==============================] - 0s 6ms/step - loss: 0.0012 - accuracy: 1.0000 - val_loss: 0.4400 - val_accuracy: 0.8333\n",
            "Epoch 31/50\n",
            "60/60 [==============================] - 0s 6ms/step - loss: 0.0011 - accuracy: 1.0000 - val_loss: 0.4433 - val_accuracy: 0.8267\n",
            "Epoch 32/50\n",
            "60/60 [==============================] - 0s 6ms/step - loss: 0.0010 - accuracy: 1.0000 - val_loss: 0.4451 - val_accuracy: 0.8267\n",
            "Epoch 33/50\n",
            "60/60 [==============================] - 0s 6ms/step - loss: 9.2502e-04 - accuracy: 1.0000 - val_loss: 0.4464 - val_accuracy: 0.8267\n",
            "Epoch 34/50\n",
            "60/60 [==============================] - 0s 6ms/step - loss: 8.5038e-04 - accuracy: 1.0000 - val_loss: 0.4484 - val_accuracy: 0.8267\n",
            "Epoch 35/50\n",
            "60/60 [==============================] - 0s 5ms/step - loss: 7.8437e-04 - accuracy: 1.0000 - val_loss: 0.4503 - val_accuracy: 0.8267\n",
            "Epoch 36/50\n",
            "60/60 [==============================] - 0s 6ms/step - loss: 7.2559e-04 - accuracy: 1.0000 - val_loss: 0.4518 - val_accuracy: 0.8267\n",
            "Epoch 37/50\n",
            "60/60 [==============================] - 0s 5ms/step - loss: 6.7070e-04 - accuracy: 1.0000 - val_loss: 0.4535 - val_accuracy: 0.8267\n",
            "Epoch 38/50\n",
            "60/60 [==============================] - 0s 6ms/step - loss: 6.2271e-04 - accuracy: 1.0000 - val_loss: 0.4554 - val_accuracy: 0.8267\n",
            "Epoch 39/50\n",
            "60/60 [==============================] - 0s 6ms/step - loss: 5.7950e-04 - accuracy: 1.0000 - val_loss: 0.4572 - val_accuracy: 0.8333\n",
            "Epoch 40/50\n",
            "60/60 [==============================] - 0s 5ms/step - loss: 5.3907e-04 - accuracy: 1.0000 - val_loss: 0.4590 - val_accuracy: 0.8400\n",
            "Epoch 41/50\n",
            "60/60 [==============================] - 0s 5ms/step - loss: 5.0274e-04 - accuracy: 1.0000 - val_loss: 0.4600 - val_accuracy: 0.8400\n",
            "Epoch 42/50\n",
            "60/60 [==============================] - 0s 6ms/step - loss: 4.7109e-04 - accuracy: 1.0000 - val_loss: 0.4617 - val_accuracy: 0.8400\n",
            "Epoch 43/50\n",
            "60/60 [==============================] - 0s 5ms/step - loss: 4.3974e-04 - accuracy: 1.0000 - val_loss: 0.4641 - val_accuracy: 0.8400\n",
            "Epoch 44/50\n",
            "60/60 [==============================] - 0s 5ms/step - loss: 4.1175e-04 - accuracy: 1.0000 - val_loss: 0.4656 - val_accuracy: 0.8400\n",
            "Epoch 45/50\n",
            "60/60 [==============================] - 0s 5ms/step - loss: 3.8631e-04 - accuracy: 1.0000 - val_loss: 0.4679 - val_accuracy: 0.8400\n",
            "Epoch 46/50\n",
            "60/60 [==============================] - 0s 6ms/step - loss: 3.6276e-04 - accuracy: 1.0000 - val_loss: 0.4697 - val_accuracy: 0.8400\n",
            "Epoch 47/50\n",
            "60/60 [==============================] - 0s 6ms/step - loss: 3.4106e-04 - accuracy: 1.0000 - val_loss: 0.4728 - val_accuracy: 0.8400\n",
            "Epoch 48/50\n",
            "60/60 [==============================] - 0s 5ms/step - loss: 3.2068e-04 - accuracy: 1.0000 - val_loss: 0.4752 - val_accuracy: 0.8400\n",
            "Epoch 49/50\n",
            "60/60 [==============================] - 0s 6ms/step - loss: 3.0229e-04 - accuracy: 1.0000 - val_loss: 0.4772 - val_accuracy: 0.8467\n",
            "Epoch 50/50\n",
            "60/60 [==============================] - 0s 5ms/step - loss: 2.8598e-04 - accuracy: 1.0000 - val_loss: 0.4796 - val_accuracy: 0.8467\n"
          ]
        }
      ]
    },
    {
      "cell_type": "code",
      "source": [
        "print(\"Accuracy: \",accuracy)"
      ],
      "metadata": {
        "colab": {
          "base_uri": "https://localhost:8080/"
        },
        "id": "bUcNhYulaE8Q",
        "outputId": "d5c0ec0b-4fff-4cd9-b14d-ae39d557f09f"
      },
      "execution_count": null,
      "outputs": [
        {
          "output_type": "stream",
          "name": "stdout",
          "text": [
            "Accuracy:  0.8320000171661377\n"
          ]
        }
      ]
    },
    {
      "cell_type": "markdown",
      "source": [
        "Q5- How do you interpret these results? <br>\n",
        "Answer 5: We can interupt the results by drawing the learning curves to read. We can print the accuracy. The accuracy rate and learning curves will help us understand if our neural model is perfoming good. We need to make sure if the traing accuracy goes up and test loss is low.  <br>\n",
        "Q6- What is your recommendation to improve the accuracy? Implement your idea.<br>\n",
        "Answer 6: To improve the accuracy, we can add more hidden layers and dropout layers"
      ],
      "metadata": {
        "id": "ytpDM4qMapR9"
      }
    },
    {
      "cell_type": "code",
      "source": [
        "plt.figure(figsize=(8, 6), dpi=80)\n",
        "\n",
        "plt.subplot(2,1,1)\n",
        "plt.plot(hist.history['accuracy'])\n",
        "plt.plot(hist.history['val_accuracy'])\n",
        "plt.title('model accuracy')\n",
        "plt.ylabel('accuracy')\n",
        "plt.xlabel('epoch')\n",
        "plt.legend(['train', 'test'], loc='lower right')\n",
        "\n",
        "plt.subplot(2,1,2)\n",
        "plt.plot(hist.history['loss'])\n",
        "plt.plot(hist.history['val_loss'])\n",
        "plt.title('model loss')\n",
        "plt.ylabel('loss')\n",
        "plt.xlabel('epoch')\n",
        "plt.legend(['train', 'test'], loc='upper right')\n",
        "\n",
        "plt.show()"
      ],
      "metadata": {
        "colab": {
          "base_uri": "https://localhost:8080/",
          "height": 444
        },
        "id": "KKFsoXiYaE5c",
        "outputId": "45208bb3-d0e3-4634-e48f-9373b46b805b"
      },
      "execution_count": null,
      "outputs": [
        {
          "output_type": "display_data",
          "data": {
            "text/plain": [
              "<Figure size 640x480 with 2 Axes>"
            ],
            "image/png": "[encoded data removed]"
          },
          "metadata": {
            "needs_background": "light"
          }
        }
      ]
    },
    {
      "cell_type": "code",
      "source": [
        "model3 = Sequential()\n",
        "model3.add(layers.Embedding(input_dim=vocab_size,\n",
        "output_dim=embedding_dim,\n",
        "input_length=maxlen))\n",
        "model3.add(layers.GlobalMaxPool1D())\n",
        "model3.add(layers.Dense(50, activation='relu'))\n",
        "model3.add(layers.Dense(1, activation='sigmoid'))\n",
        "model3.compile(optimizer='adam', loss='binary_crossentropy',\n",
        "metrics=['accuracy'])\n",
        "model3.summary()"
      ],
      "metadata": {
        "colab": {
          "base_uri": "https://localhost:8080/"
        },
        "id": "F7OdT6uqaE3G",
        "outputId": "2fbf19f2-7195-4883-d665-90c8bff3465b"
      },
      "execution_count": null,
      "outputs": [
        {
          "output_type": "stream",
          "name": "stdout",
          "text": [
            "Model: \"sequential_24\"\n",
            "_________________________________________________________________\n",
            " Layer (type)                Output Shape              Param #   \n",
            "=================================================================\n",
            " embedding_17 (Embedding)    (None, 100, 50)           78700     \n",
            "                                                                 \n",
            " global_max_pooling1d_19 (Gl  (None, 50)               0         \n",
            " obalMaxPooling1D)                                               \n",
            "                                                                 \n",
            " dense_64 (Dense)            (None, 50)                2550      \n",
            "                                                                 \n",
            " dense_65 (Dense)            (None, 1)                 51        \n",
            "                                                                 \n",
            "=================================================================\n",
            "Total params: 81,301\n",
            "Trainable params: 81,301\n",
            "Non-trainable params: 0\n",
            "_________________________________________________________________\n"
          ]
        }
      ]
    },
    {
      "cell_type": "code",
      "source": [
        "hist = model3.fit(X_train, y_train,\n",
        "epochs=50,\n",
        "validation_split=0.2,\n",
        "batch_size=10)\n",
        "loss, accuracy = model3.evaluate(X_test, y_test, verbose=False)"
      ],
      "metadata": {
        "colab": {
          "base_uri": "https://localhost:8080/"
        },
        "id": "KwjWzGjZaEzy",
        "outputId": "06a770f0-57e1-4431-f5d3-1e1c5ee88471"
      },
      "execution_count": null,
      "outputs": [
        {
          "output_type": "stream",
          "name": "stdout",
          "text": [
            "Epoch 1/20\n",
            "60/60 [==============================] - 1s 13ms/step - loss: 6.5801e-05 - accuracy: 1.0000 - val_loss: 0.5386 - val_accuracy: 0.8200\n",
            "Epoch 2/20\n",
            "60/60 [==============================] - 1s 10ms/step - loss: 6.2087e-05 - accuracy: 1.0000 - val_loss: 0.5404 - val_accuracy: 0.8200\n",
            "Epoch 3/20\n",
            "60/60 [==============================] - 0s 8ms/step - loss: 5.8639e-05 - accuracy: 1.0000 - val_loss: 0.5418 - val_accuracy: 0.8200\n",
            "Epoch 4/20\n",
            "60/60 [==============================] - 0s 8ms/step - loss: 5.5434e-05 - accuracy: 1.0000 - val_loss: 0.5431 - val_accuracy: 0.8200\n",
            "Epoch 5/20\n",
            "60/60 [==============================] - 0s 8ms/step - loss: 5.2492e-05 - accuracy: 1.0000 - val_loss: 0.5457 - val_accuracy: 0.8200\n",
            "Epoch 6/20\n",
            "60/60 [==============================] - 1s 9ms/step - loss: 4.9758e-05 - accuracy: 1.0000 - val_loss: 0.5478 - val_accuracy: 0.8200\n",
            "Epoch 7/20\n",
            "60/60 [==============================] - 1s 8ms/step - loss: 4.7130e-05 - accuracy: 1.0000 - val_loss: 0.5501 - val_accuracy: 0.8200\n",
            "Epoch 8/20\n",
            "60/60 [==============================] - 0s 8ms/step - loss: 4.4567e-05 - accuracy: 1.0000 - val_loss: 0.5513 - val_accuracy: 0.8200\n",
            "Epoch 9/20\n",
            "60/60 [==============================] - 1s 8ms/step - loss: 4.2228e-05 - accuracy: 1.0000 - val_loss: 0.5532 - val_accuracy: 0.8200\n",
            "Epoch 10/20\n",
            "60/60 [==============================] - 1s 9ms/step - loss: 4.0116e-05 - accuracy: 1.0000 - val_loss: 0.5553 - val_accuracy: 0.8200\n",
            "Epoch 11/20\n",
            "60/60 [==============================] - 0s 7ms/step - loss: 3.8049e-05 - accuracy: 1.0000 - val_loss: 0.5569 - val_accuracy: 0.8200\n",
            "Epoch 12/20\n",
            "60/60 [==============================] - 0s 5ms/step - loss: 3.6143e-05 - accuracy: 1.0000 - val_loss: 0.5589 - val_accuracy: 0.8200\n",
            "Epoch 13/20\n",
            "60/60 [==============================] - 0s 5ms/step - loss: 3.4388e-05 - accuracy: 1.0000 - val_loss: 0.5605 - val_accuracy: 0.8200\n",
            "Epoch 14/20\n",
            "60/60 [==============================] - 0s 6ms/step - loss: 3.2719e-05 - accuracy: 1.0000 - val_loss: 0.5623 - val_accuracy: 0.8200\n",
            "Epoch 15/20\n",
            "60/60 [==============================] - 0s 5ms/step - loss: 3.1147e-05 - accuracy: 1.0000 - val_loss: 0.5637 - val_accuracy: 0.8200\n",
            "Epoch 16/20\n",
            "60/60 [==============================] - 0s 6ms/step - loss: 2.9701e-05 - accuracy: 1.0000 - val_loss: 0.5654 - val_accuracy: 0.8200\n",
            "Epoch 17/20\n",
            "60/60 [==============================] - 0s 6ms/step - loss: 2.8330e-05 - accuracy: 1.0000 - val_loss: 0.5670 - val_accuracy: 0.8200\n",
            "Epoch 18/20\n",
            "60/60 [==============================] - 0s 6ms/step - loss: 2.6986e-05 - accuracy: 1.0000 - val_loss: 0.5684 - val_accuracy: 0.8200\n",
            "Epoch 19/20\n",
            "60/60 [==============================] - 0s 6ms/step - loss: 2.5727e-05 - accuracy: 1.0000 - val_loss: 0.5701 - val_accuracy: 0.8200\n",
            "Epoch 20/20\n",
            "60/60 [==============================] - 0s 6ms/step - loss: 2.4552e-05 - accuracy: 1.0000 - val_loss: 0.5714 - val_accuracy: 0.8200\n"
          ]
        }
      ]
    },
    {
      "cell_type": "code",
      "source": [
        "print(\"Accuracy: \",accuracy)"
      ],
      "metadata": {
        "colab": {
          "base_uri": "https://localhost:8080/"
        },
        "id": "uryRQ7P8Ah9t",
        "outputId": "9a2e88cc-4851-47de-cfac-66118b71b694"
      },
      "execution_count": null,
      "outputs": [
        {
          "output_type": "stream",
          "name": "stdout",
          "text": [
            "Accuracy:  0.7879999876022339\n"
          ]
        }
      ]
    }
  ]
}