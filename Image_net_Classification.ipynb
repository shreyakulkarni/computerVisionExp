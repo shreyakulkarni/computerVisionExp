{
  "cells": [
    {
      "cell_type": "code",
      "execution_count": null,
      "metadata": {
        "id": "ebxlCzzw2n1B"
      },
      "outputs": [],
      "source": [
        "import numpy as np\n",
        "import matplotlib.pyplot as plt\n",
        "from tensorflow.keras.layers import Input, Conv2D, Dense, Flatten, Dropout, GlobalMaxPooling2D, MaxPooling2D, BatchNormalization, Activation\n",
        "from tensorflow.keras.models import Model\n",
        "from tensorflow.keras.models import Sequential\n",
        "from keras.preprocessing.image import ImageDataGenerator\n",
        "from tensorflow.keras.regularizers import l2\n",
        "from tensorflow.keras.losses import CategoricalCrossentropy\n",
        "\n",
        "from sklearn.metrics import classification_report,confusion_matrix\n",
        "#import seaborn as sn\n",
        "from tensorflow.keras.preprocessing import image"
      ],
      "id": "ebxlCzzw2n1B"
    },
    {
      "cell_type": "code",
      "execution_count": null,
      "metadata": {
        "id": "M6h7rUkB2n1E"
      },
      "outputs": [],
      "source": [
        "train_datagen = ImageDataGenerator(rescale = 1./255,\n",
        "                                   shear_range = 0.2,\n",
        "                                   zoom_range = 0.2,\n",
        "                                   horizontal_flip = True)\n",
        "\n",
        "test_datagen = ImageDataGenerator(rescale = 1./255)"
      ],
      "id": "M6h7rUkB2n1E"
    },
    {
      "cell_type": "code",
      "execution_count": null,
      "metadata": {
        "colab": {
          "base_uri": "https://localhost:8080/",
          "height": 417
        },
        "id": "sV3Lshlh2n1F",
        "outputId": "4f3a3a68-a05a-4d94-b4ec-0d20f93484ce"
      },
      "outputs": [
        {
          "output_type": "error",
          "ename": "FileNotFoundError",
          "evalue": "ignored",
          "traceback": [
            "\u001b[0;31m---------------------------------------------------------------------------\u001b[0m",
            "\u001b[0;31mFileNotFoundError\u001b[0m                         Traceback (most recent call last)",
            "\u001b[0;32m<ipython-input-6-2701ef0d373c>\u001b[0m in \u001b[0;36m<module>\u001b[0;34m\u001b[0m\n\u001b[1;32m      2\u001b[0m                                                  \u001b[0mtarget_size\u001b[0m \u001b[0;34m=\u001b[0m \u001b[0;34m(\u001b[0m\u001b[0;36m256\u001b[0m\u001b[0;34m,\u001b[0m \u001b[0;36m256\u001b[0m\u001b[0;34m)\u001b[0m\u001b[0;34m,\u001b[0m\u001b[0;34m\u001b[0m\u001b[0;34m\u001b[0m\u001b[0m\n\u001b[1;32m      3\u001b[0m                                                  \u001b[0mbatch_size\u001b[0m \u001b[0;34m=\u001b[0m \u001b[0;36m32\u001b[0m\u001b[0;34m,\u001b[0m\u001b[0;34m\u001b[0m\u001b[0;34m\u001b[0m\u001b[0m\n\u001b[0;32m----> 4\u001b[0;31m                                                  class_mode='categorical')\n\u001b[0m\u001b[1;32m      5\u001b[0m \u001b[0;34m\u001b[0m\u001b[0m\n\u001b[1;32m      6\u001b[0m test_set = test_datagen.flow_from_directory('seg_test/',\n",
            "\u001b[0;32m/usr/local/lib/python3.7/dist-packages/keras/preprocessing/image.py\u001b[0m in \u001b[0;36mflow_from_directory\u001b[0;34m(self, directory, target_size, color_mode, classes, class_mode, batch_size, shuffle, seed, save_to_dir, save_prefix, save_format, follow_links, subset, interpolation)\u001b[0m\n\u001b[1;32m    990\u001b[0m         \u001b[0mfollow_links\u001b[0m\u001b[0;34m=\u001b[0m\u001b[0mfollow_links\u001b[0m\u001b[0;34m,\u001b[0m\u001b[0;34m\u001b[0m\u001b[0;34m\u001b[0m\u001b[0m\n\u001b[1;32m    991\u001b[0m         \u001b[0msubset\u001b[0m\u001b[0;34m=\u001b[0m\u001b[0msubset\u001b[0m\u001b[0;34m,\u001b[0m\u001b[0;34m\u001b[0m\u001b[0;34m\u001b[0m\u001b[0m\n\u001b[0;32m--> 992\u001b[0;31m         interpolation=interpolation)\n\u001b[0m\u001b[1;32m    993\u001b[0m \u001b[0;34m\u001b[0m\u001b[0m\n\u001b[1;32m    994\u001b[0m   def flow_from_dataframe(self,\n",
            "\u001b[0;32m/usr/local/lib/python3.7/dist-packages/keras/preprocessing/image.py\u001b[0m in \u001b[0;36m__init__\u001b[0;34m(self, directory, image_data_generator, target_size, color_mode, classes, class_mode, batch_size, shuffle, seed, data_format, save_to_dir, save_prefix, save_format, follow_links, subset, interpolation, dtype)\u001b[0m\n\u001b[1;32m    408\u001b[0m         \u001b[0msubset\u001b[0m\u001b[0;34m=\u001b[0m\u001b[0msubset\u001b[0m\u001b[0;34m,\u001b[0m\u001b[0;34m\u001b[0m\u001b[0;34m\u001b[0m\u001b[0m\n\u001b[1;32m    409\u001b[0m         \u001b[0minterpolation\u001b[0m\u001b[0;34m=\u001b[0m\u001b[0minterpolation\u001b[0m\u001b[0;34m,\u001b[0m\u001b[0;34m\u001b[0m\u001b[0;34m\u001b[0m\u001b[0m\n\u001b[0;32m--> 410\u001b[0;31m         **kwargs)\n\u001b[0m\u001b[1;32m    411\u001b[0m \u001b[0;34m\u001b[0m\u001b[0m\n\u001b[1;32m    412\u001b[0m \u001b[0;34m\u001b[0m\u001b[0m\n",
            "\u001b[0;32m/usr/local/lib/python3.7/dist-packages/keras_preprocessing/image/directory_iterator.py\u001b[0m in \u001b[0;36m__init__\u001b[0;34m(self, directory, image_data_generator, target_size, color_mode, classes, class_mode, batch_size, shuffle, seed, data_format, save_to_dir, save_prefix, save_format, follow_links, subset, interpolation, dtype)\u001b[0m\n\u001b[1;32m    113\u001b[0m         \u001b[0;32mif\u001b[0m \u001b[0;32mnot\u001b[0m \u001b[0mclasses\u001b[0m\u001b[0;34m:\u001b[0m\u001b[0;34m\u001b[0m\u001b[0;34m\u001b[0m\u001b[0m\n\u001b[1;32m    114\u001b[0m             \u001b[0mclasses\u001b[0m \u001b[0;34m=\u001b[0m \u001b[0;34m[\u001b[0m\u001b[0;34m]\u001b[0m\u001b[0;34m\u001b[0m\u001b[0;34m\u001b[0m\u001b[0m\n\u001b[0;32m--> 115\u001b[0;31m             \u001b[0;32mfor\u001b[0m \u001b[0msubdir\u001b[0m \u001b[0;32min\u001b[0m \u001b[0msorted\u001b[0m\u001b[0;34m(\u001b[0m\u001b[0mos\u001b[0m\u001b[0;34m.\u001b[0m\u001b[0mlistdir\u001b[0m\u001b[0;34m(\u001b[0m\u001b[0mdirectory\u001b[0m\u001b[0;34m)\u001b[0m\u001b[0;34m)\u001b[0m\u001b[0;34m:\u001b[0m\u001b[0;34m\u001b[0m\u001b[0;34m\u001b[0m\u001b[0m\n\u001b[0m\u001b[1;32m    116\u001b[0m                 \u001b[0;32mif\u001b[0m \u001b[0mos\u001b[0m\u001b[0;34m.\u001b[0m\u001b[0mpath\u001b[0m\u001b[0;34m.\u001b[0m\u001b[0misdir\u001b[0m\u001b[0;34m(\u001b[0m\u001b[0mos\u001b[0m\u001b[0;34m.\u001b[0m\u001b[0mpath\u001b[0m\u001b[0;34m.\u001b[0m\u001b[0mjoin\u001b[0m\u001b[0;34m(\u001b[0m\u001b[0mdirectory\u001b[0m\u001b[0;34m,\u001b[0m \u001b[0msubdir\u001b[0m\u001b[0;34m)\u001b[0m\u001b[0;34m)\u001b[0m\u001b[0;34m:\u001b[0m\u001b[0;34m\u001b[0m\u001b[0;34m\u001b[0m\u001b[0m\n\u001b[1;32m    117\u001b[0m                     \u001b[0mclasses\u001b[0m\u001b[0;34m.\u001b[0m\u001b[0mappend\u001b[0m\u001b[0;34m(\u001b[0m\u001b[0msubdir\u001b[0m\u001b[0;34m)\u001b[0m\u001b[0;34m\u001b[0m\u001b[0;34m\u001b[0m\u001b[0m\n",
            "\u001b[0;31mFileNotFoundError\u001b[0m: [Errno 2] No such file or directory: 'seg_train/'"
          ]
        }
      ],
      "source": [
        "training_set = train_datagen.flow_from_directory('seg_train/',\n",
        "                                                 target_size = (256, 256),\n",
        "                                                 batch_size = 32,\n",
        "                                                 class_mode='categorical')\n",
        "\n",
        "test_set = test_datagen.flow_from_directory('seg_test/',\n",
        "                                            target_size = (256, 256),\n",
        "                                            batch_size = 32,\n",
        "                                            shuffle=False,\n",
        "                                            class_mode='categorical')"
      ],
      "id": "sV3Lshlh2n1F"
    },
    {
      "cell_type": "code",
      "source": [
        "import os\n",
        "os.getcwd()"
      ],
      "metadata": {
        "colab": {
          "base_uri": "https://localhost:8080/",
          "height": 36
        },
        "id": "k6n7FT0o9ts6",
        "outputId": "2afb31d9-9202-4470-ce03-70c71b88d21d"
      },
      "id": "k6n7FT0o9ts6",
      "execution_count": null,
      "outputs": [
        {
          "output_type": "execute_result",
          "data": {
            "text/plain": [
              "'/content'"
            ],
            "application/vnd.google.colaboratory.intrinsic+json": {
              "type": "string"
            }
          },
          "metadata": {},
          "execution_count": 5
        }
      ]
    },
    {
      "cell_type": "code",
      "execution_count": null,
      "metadata": {
        "colab": {
          "base_uri": "https://localhost:8080/",
          "height": 246
        },
        "id": "vtVRpWae2n1H",
        "outputId": "2968cd53-ab6a-40d1-b53d-a86a4543a730"
      },
      "outputs": [
        {
          "output_type": "error",
          "ename": "NameError",
          "evalue": "ignored",
          "traceback": [
            "\u001b[0;31m---------------------------------------------------------------------------\u001b[0m",
            "\u001b[0;31mNameError\u001b[0m                                 Traceback (most recent call last)",
            "\u001b[0;32m<ipython-input-4-b50ede09be05>\u001b[0m in \u001b[0;36m<module>\u001b[0;34m\u001b[0m\n\u001b[0;32m----> 1\u001b[0;31m \u001b[0mlabels\u001b[0m \u001b[0;34m=\u001b[0m \u001b[0;34m{\u001b[0m\u001b[0mvalue\u001b[0m\u001b[0;34m:\u001b[0m \u001b[0mkey\u001b[0m \u001b[0;32mfor\u001b[0m \u001b[0mkey\u001b[0m\u001b[0;34m,\u001b[0m \u001b[0mvalue\u001b[0m \u001b[0;32min\u001b[0m \u001b[0mtraining_set\u001b[0m\u001b[0;34m.\u001b[0m\u001b[0mclass_indices\u001b[0m\u001b[0;34m.\u001b[0m\u001b[0mitems\u001b[0m\u001b[0;34m(\u001b[0m\u001b[0;34m)\u001b[0m\u001b[0;34m}\u001b[0m\u001b[0;34m\u001b[0m\u001b[0;34m\u001b[0m\u001b[0m\n\u001b[0m\u001b[1;32m      2\u001b[0m \u001b[0;34m\u001b[0m\u001b[0m\n\u001b[1;32m      3\u001b[0m \u001b[0mprint\u001b[0m\u001b[0;34m(\u001b[0m\u001b[0;34m\"Label Mappings for classes present in the training and validation datasets\\n\"\u001b[0m\u001b[0;34m)\u001b[0m\u001b[0;34m\u001b[0m\u001b[0;34m\u001b[0m\u001b[0m\n\u001b[1;32m      4\u001b[0m \u001b[0;32mfor\u001b[0m \u001b[0mkey\u001b[0m\u001b[0;34m,\u001b[0m \u001b[0mvalue\u001b[0m \u001b[0;32min\u001b[0m \u001b[0mlabels\u001b[0m\u001b[0;34m.\u001b[0m\u001b[0mitems\u001b[0m\u001b[0;34m(\u001b[0m\u001b[0;34m)\u001b[0m\u001b[0;34m:\u001b[0m\u001b[0;34m\u001b[0m\u001b[0;34m\u001b[0m\u001b[0m\n\u001b[1;32m      5\u001b[0m     \u001b[0mprint\u001b[0m\u001b[0;34m(\u001b[0m\u001b[0;34mf\"{key} : {value}\"\u001b[0m\u001b[0;34m)\u001b[0m\u001b[0;34m\u001b[0m\u001b[0;34m\u001b[0m\u001b[0m\n",
            "\u001b[0;31mNameError\u001b[0m: name 'training_set' is not defined"
          ]
        }
      ],
      "source": [
        "labels = {value: key for key, value in training_set.class_indices.items()}\n",
        "\n",
        "print(\"Label Mappings for classes present in the training and validation datasets\\n\")\n",
        "for key, value in labels.items():\n",
        "    print(f\"{key} : {value}\")"
      ],
      "id": "vtVRpWae2n1H"
    },
    {
      "cell_type": "code",
      "execution_count": null,
      "metadata": {
        "id": "sjIrGG5G2n1I"
      },
      "outputs": [],
      "source": [
        "def create_model():\n",
        "    model = Sequential([\n",
        "        Conv2D(filters=128, kernel_size=(5, 5), padding='valid', input_shape=(256, 256, 3)),\n",
        "        Activation('relu'),\n",
        "        MaxPooling2D(pool_size=(2, 2)),\n",
        "        BatchNormalization(),\n",
        "\n",
        "        Conv2D(filters=64, kernel_size=(3, 3), padding='valid', kernel_regularizer=l2(0.00005)),\n",
        "        Activation('relu'),\n",
        "        MaxPooling2D(pool_size=(2, 2)),\n",
        "        BatchNormalization(),\n",
        "\n",
        "        Conv2D(filters=32, kernel_size=(3, 3), padding='valid', kernel_regularizer=l2(0.00005)),\n",
        "        Activation('relu'),\n",
        "        MaxPooling2D(pool_size=(2, 2)),\n",
        "        BatchNormalization(),\n",
        "        Flatten(),\n",
        "\n",
        "        Dense(units=256, activation='relu'),\n",
        "        Dropout(0.5),\n",
        "        Dense(units=6, activation='softmax')\n",
        "    ])\n",
        "\n",
        "    return model"
      ],
      "id": "sjIrGG5G2n1I"
    },
    {
      "cell_type": "code",
      "execution_count": null,
      "metadata": {
        "id": "gRF5ygv92n1J"
      },
      "outputs": [],
      "source": [
        "cnn_model = create_model()"
      ],
      "id": "gRF5ygv92n1J"
    },
    {
      "cell_type": "code",
      "execution_count": null,
      "metadata": {
        "id": "JGwt0XcK2n1J"
      },
      "outputs": [],
      "source": [
        "cnn_model.compile(optimizer='adam', loss=CategoricalCrossentropy(), metrics=['accuracy'])"
      ],
      "id": "JGwt0XcK2n1J"
    },
    {
      "cell_type": "code",
      "execution_count": null,
      "metadata": {
        "id": "2pgNljGW2n1K",
        "outputId": "fdcbab73-8fc4-420e-bb31-b500416df74b"
      },
      "outputs": [
        {
          "name": "stdout",
          "output_type": "stream",
          "text": [
            "Epoch 1/25\n",
            "439/439 [==============================] - 1093s 2s/step - loss: 3.8844 - accuracy: 0.4936 - val_loss: 1.4097 - val_accuracy: 0.5447\n",
            "Epoch 2/25\n",
            "439/439 [==============================] - 1089s 2s/step - loss: 1.2234 - accuracy: 0.5959 - val_loss: 0.9577 - val_accuracy: 0.6823\n",
            "Epoch 3/25\n",
            "439/439 [==============================] - 1091s 2s/step - loss: 0.9831 - accuracy: 0.6523 - val_loss: 0.9417 - val_accuracy: 0.6867\n",
            "Epoch 4/25\n",
            "439/439 [==============================] - 1090s 2s/step - loss: 0.8737 - accuracy: 0.6873 - val_loss: 0.9439 - val_accuracy: 0.7030\n",
            "Epoch 5/25\n",
            "439/439 [==============================] - 1089s 2s/step - loss: 0.8331 - accuracy: 0.7031 - val_loss: 0.8382 - val_accuracy: 0.7207\n",
            "Epoch 6/25\n",
            "439/439 [==============================] - 1093s 2s/step - loss: 0.7755 - accuracy: 0.7260 - val_loss: 1.7542 - val_accuracy: 0.5030\n",
            "Epoch 7/25\n",
            "439/439 [==============================] - 1091s 2s/step - loss: 0.7396 - accuracy: 0.7349 - val_loss: 1.0148 - val_accuracy: 0.6430\n",
            "Epoch 8/25\n",
            "439/439 [==============================] - 1088s 2s/step - loss: 0.7290 - accuracy: 0.7450 - val_loss: 0.9011 - val_accuracy: 0.6660\n",
            "Epoch 9/25\n",
            "439/439 [==============================] - 1086s 2s/step - loss: 0.6635 - accuracy: 0.7717 - val_loss: 0.5537 - val_accuracy: 0.8163\n",
            "Epoch 10/25\n",
            "439/439 [==============================] - 1088s 2s/step - loss: 0.6465 - accuracy: 0.7785 - val_loss: 0.9075 - val_accuracy: 0.6760\n",
            "Epoch 11/25\n",
            "439/439 [==============================] - 1086s 2s/step - loss: 0.6305 - accuracy: 0.7810 - val_loss: 1.3787 - val_accuracy: 0.6237\n",
            "Epoch 12/25\n",
            "439/439 [==============================] - 1083s 2s/step - loss: 0.6152 - accuracy: 0.7883 - val_loss: 0.6287 - val_accuracy: 0.7823\n",
            "Epoch 13/25\n",
            "439/439 [==============================] - 1085s 2s/step - loss: 0.5750 - accuracy: 0.8023 - val_loss: 0.8059 - val_accuracy: 0.7153\n",
            "Epoch 14/25\n",
            "439/439 [==============================] - 1087s 2s/step - loss: 0.5741 - accuracy: 0.8023 - val_loss: 0.5971 - val_accuracy: 0.8037\n",
            "Epoch 15/25\n",
            "439/439 [==============================] - 1082s 2s/step - loss: 0.5495 - accuracy: 0.8127 - val_loss: 0.8871 - val_accuracy: 0.7590\n",
            "Epoch 16/25\n",
            "439/439 [==============================] - 1083s 2s/step - loss: 0.5175 - accuracy: 0.8209 - val_loss: 0.7641 - val_accuracy: 0.7317\n",
            "Epoch 17/25\n",
            "439/439 [==============================] - 1083s 2s/step - loss: 0.5060 - accuracy: 0.8271 - val_loss: 0.5220 - val_accuracy: 0.8280\n",
            "Epoch 18/25\n",
            "439/439 [==============================] - 1082s 2s/step - loss: 0.5014 - accuracy: 0.8281 - val_loss: 0.5015 - val_accuracy: 0.8443\n",
            "Epoch 19/25\n",
            "439/439 [==============================] - 1089s 2s/step - loss: 0.4925 - accuracy: 0.8333 - val_loss: 0.4768 - val_accuracy: 0.8517\n",
            "Epoch 20/25\n",
            "439/439 [==============================] - 1084s 2s/step - loss: 0.4800 - accuracy: 0.8390 - val_loss: 0.6048 - val_accuracy: 0.7890\n",
            "Epoch 21/25\n",
            "439/439 [==============================] - 1089s 2s/step - loss: 0.4697 - accuracy: 0.8405 - val_loss: 0.7732 - val_accuracy: 0.7833\n",
            "Epoch 22/25\n",
            "439/439 [==============================] - 1083s 2s/step - loss: 0.4577 - accuracy: 0.8473 - val_loss: 0.5494 - val_accuracy: 0.8263\n",
            "Epoch 23/25\n",
            "439/439 [==============================] - 1080s 2s/step - loss: 0.4493 - accuracy: 0.8447 - val_loss: 0.4702 - val_accuracy: 0.8517\n",
            "Epoch 24/25\n",
            "439/439 [==============================] - 1083s 2s/step - loss: 0.4282 - accuracy: 0.8571 - val_loss: 0.4893 - val_accuracy: 0.8587\n",
            "Epoch 25/25\n",
            "439/439 [==============================] - 1081s 2s/step - loss: 0.4340 - accuracy: 0.8531 - val_loss: 0.5306 - val_accuracy: 0.8190\n"
          ]
        }
      ],
      "source": [
        "history = cnn_model.fit(training_set, epochs=25, validation_data=test_set,\n",
        "                       verbose=1)"
      ],
      "id": "2pgNljGW2n1K"
    },
    {
      "cell_type": "code",
      "execution_count": null,
      "metadata": {
        "id": "UDvibNUC2n1K",
        "outputId": "f8976f21-c9a0-4ed1-fdc2-a05e5c9ce8bc"
      },
      "outputs": [
        {
          "name": "stdout",
          "output_type": "stream",
          "text": [
            "94/94 [==============================] - 51s 537ms/step - loss: 0.5306 - accuracy: 0.8190\n"
          ]
        }
      ],
      "source": [
        "test_loss, test_accuracy = cnn_model.evaluate(test_set, batch_size=256)"
      ],
      "id": "UDvibNUC2n1K"
    },
    {
      "cell_type": "code",
      "execution_count": null,
      "metadata": {
        "id": "etkhiNUi2n1L"
      },
      "outputs": [],
      "source": [
        "predictions = cnn_model.predict(test_set)"
      ],
      "id": "etkhiNUi2n1L"
    },
    {
      "cell_type": "code",
      "execution_count": null,
      "metadata": {
        "id": "68kU0FBj2n1M",
        "outputId": "98cc50a2-9f15-4d24-fd65-0369747c694c"
      },
      "outputs": [
        {
          "name": "stdout",
          "output_type": "stream",
          "text": [
            "Test Loss:     0.53060382604599\n",
            "Test Accuracy: 0.8190000057220459\n"
          ]
        }
      ],
      "source": [
        "print(f\"Test Loss:     {test_loss}\")\n",
        "print(f\"Test Accuracy: {test_accuracy}\")"
      ],
      "id": "68kU0FBj2n1M"
    },
    {
      "cell_type": "code",
      "execution_count": null,
      "metadata": {
        "id": "t2BJo2_U2n1N"
      },
      "outputs": [],
      "source": [
        "y_pred = np.argmax(predictions, axis=1)\n",
        "y_true = test_set.classes"
      ],
      "id": "t2BJo2_U2n1N"
    },
    {
      "cell_type": "code",
      "execution_count": null,
      "metadata": {
        "id": "TpF2mx-x2n1N",
        "outputId": "25f64f46-c648-481c-ba66-d710e585acd4"
      },
      "outputs": [
        {
          "name": "stdout",
          "output_type": "stream",
          "text": [
            "              precision    recall  f1-score   support\n",
            "\n",
            "   buildings       0.86      0.78      0.82       437\n",
            "      forest       0.96      0.97      0.96       474\n",
            "     glacier       0.86      0.63      0.73       553\n",
            "    mountain       0.66      0.86      0.75       525\n",
            "         sea       0.84      0.80      0.82       510\n",
            "      street       0.82      0.90      0.85       501\n",
            "\n",
            "    accuracy                           0.82      3000\n",
            "   macro avg       0.83      0.82      0.82      3000\n",
            "weighted avg       0.83      0.82      0.82      3000\n",
            "\n"
          ]
        }
      ],
      "source": [
        "print(classification_report(y_true, y_pred, target_names=labels.values()))"
      ],
      "id": "TpF2mx-x2n1N"
    },
    {
      "cell_type": "code",
      "execution_count": null,
      "metadata": {
        "id": "3HPqcjQI2n1O"
      },
      "outputs": [],
      "source": [],
      "id": "3HPqcjQI2n1O"
    }
  ],
  "metadata": {
    "kernelspec": {
      "display_name": "Python 3",
      "language": "python",
      "name": "python3"
    },
    "language_info": {
      "codemirror_mode": {
        "name": "ipython",
        "version": 3
      },
      "file_extension": ".py",
      "mimetype": "text/x-python",
      "name": "python",
      "nbconvert_exporter": "python",
      "pygments_lexer": "ipython3",
      "version": "3.8.5"
    },
    "colab": {
      "provenance": []
    },
    "accelerator": "GPU"
  },
  "nbformat": 4,
  "nbformat_minor": 5
}