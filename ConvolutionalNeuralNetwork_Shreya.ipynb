{
  "cells": [
    {
      "cell_type": "code",
      "execution_count": null,
      "id": "0fcaf3ba",
      "metadata": {
        "id": "0fcaf3ba"
      },
      "outputs": [],
      "source": [
        "import cv2\n",
        "import numpy as np"
      ]
    },
    {
      "cell_type": "code",
      "execution_count": null,
      "id": "0660c1af",
      "metadata": {
        "id": "0660c1af"
      },
      "outputs": [],
      "source": [
        "cap = cv2.VideoCapture(0)\n",
        "\n",
        "while True:\n",
        "    ret, frame= cap.read()   # Forever it returns the frame and ret which is false or true\n",
        "    gray = cv2.cvtColor(frame, cv2.COLOR_BGR2GRAY) #if you want to convert the color\n",
        "    cv2.imshow('frame', frame)\n",
        "    cv2.imshow('gray', gray)   # to show the gray video\n",
        "\n",
        "    if cv2.waitKey(1) & 0xFF == ord('q'):   # If q is pressed stop\n",
        "        break\n",
        "\n",
        "cap.release()\n",
        "cv2.destroyAllWindows()"
      ]
    },
    {
      "cell_type": "markdown",
      "id": "f3e10105",
      "metadata": {
        "id": "f3e10105"
      },
      "source": [
        "Question 1:\n",
        "\n",
        "In the code above, we start the video camera and start reading the video frame by frame. For each frame, we convert it to gray scale and show both the colored image and the gray scale image using imshow. We break the loop using 'q' key. After that, we release the object to read video and close all the windows"
      ]
    },
    {
      "cell_type": "markdown",
      "source": [
        "Question 2; Code below:"
      ],
      "metadata": {
        "id": "0-xlAMmLWGWh"
      },
      "id": "0-xlAMmLWGWh"
    },
    {
      "cell_type": "code",
      "execution_count": null,
      "id": "ed714bdf",
      "metadata": {
        "id": "ed714bdf"
      },
      "outputs": [],
      "source": [
        "from tensorflow import keras\n",
        "new_model = keras.models.load_model('shreya_karan_model.h5')"
      ]
    },
    {
      "cell_type": "code",
      "execution_count": null,
      "id": "86977a92",
      "metadata": {
        "id": "86977a92"
      },
      "outputs": [],
      "source": [
        "def get_img_contour_thresh(img):\n",
        "    x, y, w, h = 0, 0, 300, 300\n",
        "    gray = cv2.cvtColor(img, cv2.COLOR_BGR2GRAY)\n",
        "    blur = cv2.GaussianBlur(gray, (35, 35), 0)\n",
        "    ret, thresh1 = cv2.threshold(blur, 70, 255, cv2.THRESH_BINARY_INV + cv2.THRESH_OTSU)\n",
        "    thresh1 = thresh1[y:y + h, x:x + w]\n",
        "    contours, hierarchy = cv2.findContours(thresh1, cv2.RETR_TREE, cv2.CHAIN_APPROX_SIMPLE)[-2:]\n",
        "    return img, contours, thresh1"
      ]
    },
    {
      "cell_type": "code",
      "execution_count": null,
      "id": "00698602",
      "metadata": {
        "id": "00698602"
      },
      "outputs": [],
      "source": [
        "cap = cv2.VideoCapture(0)\n",
        "ret, img = cap.read()\n",
        "while (cap.isOpened()):\n",
        "    ret, img = cap.read()\n",
        "    ret\n",
        "    img, contours, thresh = get_img_contour_thresh(img)\n",
        "    ans1 = ''\n",
        "    if len(contours) > 0:\n",
        "        contour = max(contours, key=cv2.contourArea)\n",
        "        if cv2.contourArea(contour) > 2500:\n",
        "            # print(predict(w_from_model,b_from_model,contour))\n",
        "            x, y, w, h = cv2.boundingRect(contour)\n",
        "            # newImage = thresh[y - 15:y + h + 15, x - 15:x + w +15]\n",
        "            newImage = thresh[y:y + h, x:x + w]\n",
        "            newImage = cv2.resize(newImage, (28, 28))\n",
        "            newImage = np.array(newImage)\n",
        "            newImage = newImage.flatten()\n",
        "            newImage = newImage.reshape(newImage.shape[0], 1)\n",
        "            newImage2 = newImage.flatten().reshape(1,28,28,1)\n",
        "            newImage2 = newImage2.astype('float32')\n",
        "            newImage2 /= 255\n",
        "            result = new_model.predict(newImage2)\n",
        "            ans1= np.argmax(result)\n",
        "            #ans1 = Digit_Recognizer_LR.predict(w_LR, b_LR, newImage)\n",
        "    x, y, w, h = 0, 0, 300, 300\n",
        "    cv2.rectangle(img, (x, y), (x + w, y + h), (0, 255, 0), 2)\n",
        "    cv2.putText(img, \"Prediction : \" + str(ans1), (10, 320), cv2.FONT_HERSHEY_SIMPLEX, 0.7, (0, 0, 255), 2)\n",
        "    cv2.imshow(\"Frame\", img)\n",
        "    cv2.imshow(\"Contours\", thresh)\n",
        "    k = cv2.waitKey(10)\n",
        "    if k == 27:\n",
        "        break\n",
        "\n",
        "cap.release()\n",
        "cv2.destroyAllWindows()"
      ]
    },
    {
      "cell_type": "markdown",
      "id": "146862e6",
      "metadata": {
        "id": "146862e6"
      },
      "source": [
        "Face Recognition"
      ]
    },
    {
      "cell_type": "code",
      "execution_count": null,
      "id": "5d6da20b",
      "metadata": {
        "id": "5d6da20b"
      },
      "outputs": [],
      "source": [
        "import cv2\n",
        "\n",
        "face_cascade = cv2.CascadeClassifier('haarcascade_frontalface_default.xml')\n",
        "eye_cascade = cv2.CascadeClassifier('haarcascade_eye.xml')\n",
        "\n",
        "cap = cv2.VideoCapture(0)\n",
        "\n",
        "while True:\n",
        "    ret, img = cap.read()\n",
        "    gray = cv2.cvtColor(img, cv2.COLOR_BGR2GRAY)\n",
        "    faces = face_cascade.detectMultiScale(gray, 1.3, 5)\n",
        "\n",
        "    for (x,y,w,h) in faces:\n",
        "            cv2.rectangle(img,(x,y),(x+w,y+h),(255,0,0),2)\n",
        "            roi_gray = gray[y:y+h, x:x+w]\n",
        "            roi_color = img[y:y+h, x:x+w]\n",
        "            eyes = eye_cascade.detectMultiScale(roi_gray)\n",
        "            for (ex,ey,ew,eh) in eyes:\n",
        "                cv2.rectangle(roi_color,(ex,ey),(ex+ew,ey+eh),(0,255,0),2)\n",
        "    cv2.imshow('Lab 3 Face recognition',img)\n",
        "    k = cv2.waitKey(30) & 0xff\n",
        "    if k == 27:\n",
        "        break\n",
        "cap.release()\n",
        "cv2.destroyAllWindows()"
      ]
    },
    {
      "cell_type": "markdown",
      "id": "e28fae09",
      "metadata": {
        "id": "e28fae09"
      },
      "source": [
        "## Step 2 : RNN and text classification"
      ]
    },
    {
      "cell_type": "code",
      "source": [
        "from google.colab import drive\n",
        "drive.mount('/content/shreya/gdrive')"
      ],
      "metadata": {
        "colab": {
          "base_uri": "https://localhost:8080/"
        },
        "id": "Ek1BN7ObWgcb",
        "outputId": "f0543596-9c4c-4ec1-a54f-04f065463151"
      },
      "id": "Ek1BN7ObWgcb",
      "execution_count": null,
      "outputs": [
        {
          "output_type": "stream",
          "name": "stdout",
          "text": [
            "Drive already mounted at /content/gdrive; to attempt to forcibly remount, call drive.mount(\"/content/gdrive\", force_remount=True).\n"
          ]
        }
      ]
    },
    {
      "cell_type": "code",
      "execution_count": null,
      "id": "83c2ed8b",
      "metadata": {
        "id": "83c2ed8b"
      },
      "outputs": [],
      "source": [
        "import numpy as np\n",
        "from tensorflow.keras.datasets import imdb\n",
        "from tensorflow.keras.models import Sequential\n",
        "from tensorflow.keras.layers import Dense\n",
        "from tensorflow.keras.layers import LSTM\n",
        "from tensorflow.keras.layers import Embedding\n",
        "from tensorflow.keras.layers import Dropout\n",
        "from tensorflow.keras.layers import Conv1D\n",
        "from tensorflow.keras.preprocessing import sequence\n",
        "# fix random seed for reproducibility\n",
        "np.random.seed(7)"
      ]
    },
    {
      "cell_type": "code",
      "execution_count": null,
      "id": "5aac0d13",
      "metadata": {
        "id": "5aac0d13"
      },
      "outputs": [],
      "source": [
        "top_words = 5000\n",
        "(X_train, y_train), (X_test, y_test) = imdb.load_data(num_words=top_words)"
      ]
    },
    {
      "cell_type": "code",
      "execution_count": null,
      "id": "3c2e3378",
      "metadata": {
        "id": "3c2e3378"
      },
      "outputs": [],
      "source": [
        "# truncate and pad input sequences\n",
        "max_review_length = 500\n",
        "X_train = sequence.pad_sequences(X_train, maxlen=max_review_length)\n",
        "X_test = sequence.pad_sequences(X_test, maxlen=max_review_length)"
      ]
    },
    {
      "cell_type": "markdown",
      "id": "c665f5ae",
      "metadata": {
        "id": "c665f5ae"
      },
      "source": [
        "Question Number: 3\n",
        "Answer:\n",
        "\n",
        "Meaning of word embedding - Word embedding is the representation of the words that are used for Text Analysis. It is usually in a form of a vector. Mostly word that are have close to same meaning i.e. they are sunnonys are grouped near to each other in vector Space. For example: Man, Woman are very likely in one vector space. Queen and King ; Lion and Lioness; etc. These embedded workds are used to train on the data to benefit and help in contextual sentence formation/information."
      ]
    },
    {
      "cell_type": "code",
      "execution_count": null,
      "id": "85a838d4",
      "metadata": {
        "colab": {
          "base_uri": "https://localhost:8080/"
        },
        "id": "85a838d4",
        "outputId": "08509c94-ca03-44fd-ba14-aa190ed2100b"
      },
      "outputs": [
        {
          "output_type": "stream",
          "name": "stdout",
          "text": [
            "Model: \"sequential_6\"\n",
            "_________________________________________________________________\n",
            " Layer (type)                Output Shape              Param #   \n",
            "=================================================================\n",
            " embedding_6 (Embedding)     (None, 500, 32)           160000    \n",
            "                                                                 \n",
            " lstm_6 (LSTM)               (None, 100)               53200     \n",
            "                                                                 \n",
            " dense_2 (Dense)             (None, 1)                 101       \n",
            "                                                                 \n",
            "=================================================================\n",
            "Total params: 213,301\n",
            "Trainable params: 213,301\n",
            "Non-trainable params: 0\n",
            "_________________________________________________________________\n",
            "None\n",
            "Epoch 1/3\n",
            "391/391 [==============================] - 43s 103ms/step - loss: 0.5212 - accuracy: 0.7323 - val_loss: 0.3397 - val_accuracy: 0.8602\n",
            "Epoch 2/3\n",
            "391/391 [==============================] - 40s 102ms/step - loss: 0.3143 - accuracy: 0.8714 - val_loss: 0.3345 - val_accuracy: 0.8638\n",
            "Epoch 3/3\n",
            "391/391 [==============================] - 40s 101ms/step - loss: 0.2663 - accuracy: 0.8946 - val_loss: 0.3702 - val_accuracy: 0.8382\n"
          ]
        }
      ],
      "source": [
        "# design model\n",
        "embedding_vecor_length = 32\n",
        "model = Sequential()\n",
        "model.add(Embedding(top_words, embedding_vecor_length, input_length=max_review_length))\n",
        "model.add(LSTM(100))\n",
        "model.add(Dense(1, activation='sigmoid'))\n",
        "model.compile(loss='binary_crossentropy', optimizer='adam',\n",
        "metrics=['accuracy'])\n",
        "print(model.summary())\n",
        "final_model = model.fit(X_train, y_train, validation_data=(X_test, y_test), epochs=3,\n",
        "batch_size=64)"
      ]
    },
    {
      "cell_type": "code",
      "execution_count": null,
      "id": "e4dc403b",
      "metadata": {
        "colab": {
          "base_uri": "https://localhost:8080/"
        },
        "id": "e4dc403b",
        "outputId": "a5e46b7e-6872-482a-8548-481c90eddf8e"
      },
      "outputs": [
        {
          "output_type": "stream",
          "name": "stdout",
          "text": [
            "Accuracy: 83.82%\n"
          ]
        }
      ],
      "source": [
        "# Final evaluation of the model\n",
        "scores = model.evaluate(X_test, y_test, verbose=0)\n",
        "print(\"Accuracy: %.2f%%\" % (scores[1]*100))"
      ]
    },
    {
      "cell_type": "code",
      "execution_count": null,
      "id": "e8c6cfb7",
      "metadata": {
        "colab": {
          "base_uri": "https://localhost:8080/",
          "height": 444
        },
        "id": "e8c6cfb7",
        "outputId": "54e64899-3380-4ef9-a067-c15b5c291c36"
      },
      "outputs": [
        {
          "output_type": "display_data",
          "data": {
            "text/plain": [
              "<Figure size 640x480 with 2 Axes>"
            ],
            "image/png": "[encoded data removed]"
          },
          "metadata": {
            "needs_background": "light"
          }
        }
      ],
      "source": [
        "import matplotlib.pyplot as plt\n",
        "plt.figure(figsize=(8, 6), dpi=80)\n",
        "\n",
        "plt.subplot(2,1,1)\n",
        "plt.plot(final_model.history['accuracy'])\n",
        "plt.plot(final_model.history['val_accuracy'])\n",
        "plt.title('model accuracy')\n",
        "plt.ylabel('accuracy')\n",
        "plt.xlabel('epoch')\n",
        "plt.legend(['train', 'test'], loc='lower right')\n",
        "\n",
        "plt.subplot(2,1,2)\n",
        "plt.plot(final_model.history['loss'])\n",
        "plt.plot(final_model.history['val_loss'])\n",
        "plt.title('model loss')\n",
        "plt.ylabel('loss')\n",
        "plt.xlabel('epoch')\n",
        "plt.legend(['train', 'test'], loc='upper right')\n",
        "\n",
        "plt.show()"
      ]
    },
    {
      "cell_type": "markdown",
      "source": [
        "Question4 : here we can see the graph started good, but then we encounter a gap between the train and tesst lines. That is because there is overfitting. That means the model that we tunned knows the training data too well. This shall definetly impactthe model performance on new exposed data. To reduce that, we shall be adding dropout layers to our model."
      ],
      "metadata": {
        "id": "Bc4Ev7Zkhrpm"
      },
      "id": "Bc4Ev7Zkhrpm"
    },
    {
      "cell_type": "code",
      "execution_count": null,
      "id": "c68fc604",
      "metadata": {
        "colab": {
          "base_uri": "https://localhost:8080/"
        },
        "id": "c68fc604",
        "outputId": "b225b79b-1004-4795-a56b-478502f7ae9a"
      },
      "outputs": [
        {
          "output_type": "stream",
          "name": "stdout",
          "text": [
            "Model: \"sequential_27\"\n",
            "_________________________________________________________________\n",
            " Layer (type)                Output Shape              Param #   \n",
            "=================================================================\n",
            " embedding_24 (Embedding)    (None, 500, 32)           160000    \n",
            "                                                                 \n",
            " dropout_15 (Dropout)        (None, 500, 32)           0         \n",
            "                                                                 \n",
            " lstm_24 (LSTM)              (None, 100)               53200     \n",
            "                                                                 \n",
            " dense_5 (Dense)             (None, 1)                 101       \n",
            "                                                                 \n",
            "=================================================================\n",
            "Total params: 213,301\n",
            "Trainable params: 213,301\n",
            "Non-trainable params: 0\n",
            "_________________________________________________________________\n",
            "None\n",
            "Epoch 1/3\n",
            "391/391 [==============================] - 43s 104ms/step - loss: 0.5631 - accuracy: 0.7078 - val_loss: 0.3601 - val_accuracy: 0.8512\n",
            "Epoch 2/3\n",
            "391/391 [==============================] - 40s 101ms/step - loss: 0.3330 - accuracy: 0.8612 - val_loss: 0.3204 - val_accuracy: 0.8655\n",
            "Epoch 3/3\n",
            "391/391 [==============================] - 41s 104ms/step - loss: 0.3077 - accuracy: 0.8773 - val_loss: 0.3367 - val_accuracy: 0.8632\n"
          ]
        }
      ],
      "source": [
        "# Add a dropout to see how the model changes.\n",
        "# With the dropout layer\n",
        "embedding_vecor_length = 32\n",
        "model = Sequential()\n",
        "model.add(Embedding(top_words, embedding_vecor_length, input_length=max_review_length))\n",
        "model.add(Dropout(0.3))\n",
        "model.add(LSTM(100))\n",
        "model.add(Dense(1, activation='sigmoid'))\n",
        "model.compile(loss='binary_crossentropy', optimizer='adam',\n",
        "metrics=['accuracy'])\n",
        "print(model.summary())\n",
        "final_model_drop = model.fit(X_train, y_train, validation_data=(X_test, y_test), epochs=3, batch_size=64)"
      ]
    },
    {
      "cell_type": "code",
      "source": [
        "import matplotlib.pyplot as plt\n",
        "plt.figure(figsize=(8, 6), dpi=80)\n",
        "\n",
        "plt.subplot(2,1,1)\n",
        "plt.plot(final_model_drop.history['accuracy'])\n",
        "plt.plot(final_model_drop.history['val_accuracy'])\n",
        "plt.title('model accuracy')\n",
        "plt.ylabel('accuracy')\n",
        "plt.xlabel('epoch')\n",
        "plt.legend(['train', 'test'], loc='lower right')\n",
        "\n",
        "plt.subplot(2,1,2)\n",
        "plt.plot(final_model_drop.history['loss'])\n",
        "plt.plot(final_model_drop.history['val_loss'])\n",
        "plt.title('model loss')\n",
        "plt.ylabel('loss')\n",
        "plt.xlabel('epoch')\n",
        "plt.legend(['train', 'test'], loc='upper right')\n",
        "\n",
        "plt.show()"
      ],
      "metadata": {
        "colab": {
          "base_uri": "https://localhost:8080/",
          "height": 444
        },
        "id": "ntVTI53meHiy",
        "outputId": "fccc76c2-600c-4baf-f676-fa120136e8a5"
      },
      "id": "ntVTI53meHiy",
      "execution_count": null,
      "outputs": [
        {
          "output_type": "display_data",
          "data": {
            "text/plain": [
              "<Figure size 640x480 with 2 Axes>"
            ],
            "image/png": "[encoded data removed]"
          },
          "metadata": {
            "needs_background": "light"
          }
        }
      ]
    },
    {
      "cell_type": "markdown",
      "source": [
        "Yes, after adding the dropout layers, the overfitting scenario is reduced as that is reflected in the graph above."
      ],
      "metadata": {
        "id": "8Fa7wrs3ifUt"
      },
      "id": "8Fa7wrs3ifUt"
    },
    {
      "cell_type": "code",
      "execution_count": null,
      "id": "e6b98898",
      "metadata": {
        "id": "e6b98898"
      },
      "outputs": [],
      "source": [
        "#Question 6: Adding a CNN layer.\n",
        "#With the dropout layer adding CNN\n",
        "embedding_vecor_length = 32\n",
        "model = Sequential()\n",
        "model.add(Embedding(top_words, embedding_vecor_length, input_length=max_review_length))\n",
        "model.add(LSTM(100))\n",
        "model.add(Dropout(0.2))\n",
        "#model.add(Conv1D(filters=32, kernel_size=3, padding='same', activation='relu'))\n",
        "model.add(Conv1D(filters=32,  kernel_size=3, strides=1, activation='relu',padding='causal'))\n",
        "model.add(MaxPooling1D(pool_size=2))\n",
        "model.add(Dense(1, activation='sigmoid'))\n",
        "model.compile(loss='binary_crossentropy', optimizer='adam',\n",
        "metrics=['accuracy'])\n",
        "print(model.summary())\n",
        "final_model_drop_cnn = model.fit(X_train, y_train, validation_data=(X_test, y_test), epochs=3)\n"
      ]
    }
  ],
  "metadata": {
    "kernelspec": {
      "display_name": "Python 3 (ipykernel)",
      "language": "python",
      "name": "python3"
    },
    "language_info": {
      "codemirror_mode": {
        "name": "ipython",
        "version": 3
      },
      "file_extension": ".py",
      "mimetype": "text/x-python",
      "name": "python",
      "nbconvert_exporter": "python",
      "pygments_lexer": "ipython3",
      "version": "3.8.12"
    },
    "colab": {
      "provenance": []
    },
    "accelerator": "GPU"
  },
  "nbformat": 4,
  "nbformat_minor": 5
}